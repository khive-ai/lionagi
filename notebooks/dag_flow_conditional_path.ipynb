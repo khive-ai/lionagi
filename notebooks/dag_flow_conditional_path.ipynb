{
 "cells": [
  {
   "cell_type": "markdown",
   "metadata": {},
   "source": [
    "# Conditional Path Execution with lionagi Flow\n",
    "\n",
    "This notebook demonstrates how to create conditional workflows using the new flow operation."
   ]
  },
  {
   "cell_type": "code",
   "execution_count": 1,
   "metadata": {},
   "outputs": [],
   "source": [
    "from lionagi.session.session import Session\n",
    "from lionagi.protocols.graph import Graph, Edge, EdgeCondition\n",
    "from lionagi.operations.node import Operation"
   ]
  },
  {
   "cell_type": "markdown",
   "metadata": {},
   "source": [
    "## Example: Conditional Calculator\n",
    "\n",
    "Let's create a calculator that:\n",
    "1. Based on a \"case\" value, either sums or diffs absolute values\n",
    "2. Based on the result, either multiplies by 2 (if positive) or adds 2 (if negative)"
   ]
  },
  {
   "cell_type": "code",
   "execution_count": 2,
   "metadata": {},
   "outputs": [],
   "source": [
    "# Create a session and branch with a system message\n",
    "session = Session()\n",
    "calc_branch = session.new_branch(\n",
    "    system=\"You are asked to perform as a calculator. Return only a numeric value, i.e. int or float, no text.\"\n",
    ")\n",
    "session.default_branch = calc_branch"
   ]
  },
  {
   "cell_type": "code",
   "execution_count": 3,
   "metadata": {},
   "outputs": [],
   "source": [
    "# Create operations for our workflow\n",
    "\n",
    "# Operation 1a: Sum absolute values (case 0)\n",
    "sum_op = Operation(\n",
    "    operation=\"chat\",\n",
    "    parameters={\n",
    "        \"instruction\": \"Given context with 'x' and 'y', return the sum of their absolute values: |x| + |y|\"\n",
    "    },\n",
    ")\n",
    "\n",
    "# Operation 1b: Diff absolute values (case 1)\n",
    "diff_op = Operation(\n",
    "    operation=\"chat\",\n",
    "    parameters={\n",
    "        \"instruction\": \"Given context with 'x' and 'y', return the difference of their absolute values: |x| - |y|\"\n",
    "    },\n",
    ")\n",
    "\n",
    "# Operation 2: Apply transformation based on sign\n",
    "transform_op = Operation(\n",
    "    operation=\"chat\",\n",
    "    parameters={\n",
    "        \"instruction\": \"\"\"Given the previous result:\n",
    "        - If the result is positive (> 0), multiply it by 2\n",
    "        - If the result is zero or negative (≤ 0), add 2 to it\n",
    "        Return only the numeric result.\"\"\"\n",
    "    },\n",
    ")"
   ]
  },
  {
   "cell_type": "markdown",
   "metadata": {},
   "source": [
    "## Define Edge Conditions"
   ]
  },
  {
   "cell_type": "code",
   "execution_count": 4,
   "metadata": {},
   "outputs": [],
   "source": [
    "# Create condition for case-based branching\n",
    "class CaseCondition(EdgeCondition):\n",
    "    def __init__(self, expected_case: int):\n",
    "        super().__init__()\n",
    "        self.expected_case = expected_case\n",
    "\n",
    "    async def apply(self, context: dict) -> bool:\n",
    "        # Check the case value in the context\n",
    "        case = context.get(\"context\", {}).get(\"case\", None)\n",
    "        return case == self.expected_case\n",
    "\n",
    "\n",
    "# Create conditions\n",
    "case_0_condition = CaseCondition(expected_case=0)\n",
    "case_1_condition = CaseCondition(expected_case=1)"
   ]
  },
  {
   "cell_type": "markdown",
   "metadata": {},
   "source": [
    "## Build the Graph"
   ]
  },
  {
   "cell_type": "code",
   "execution_count": 5,
   "metadata": {},
   "outputs": [],
   "source": [
    "# Create graph\n",
    "graph = Graph()\n",
    "\n",
    "# Add nodes\n",
    "graph.add_node(sum_op)\n",
    "graph.add_node(diff_op)\n",
    "graph.add_node(transform_op)\n",
    "\n",
    "# We need a start node to make the conditional branching work\n",
    "# In the new design, we can specify starting_node in flow()\n",
    "# Or we can add a simple start operation\n",
    "start_op = Operation(\n",
    "    operation=\"chat\",\n",
    "    parameters={\n",
    "        \"instruction\": \"Acknowledge the input values x and y. Reply 'Ready to calculate.'\"\n",
    "    },\n",
    ")\n",
    "graph.add_node(start_op)\n",
    "\n",
    "# Add conditional edges\n",
    "graph.add_edge(\n",
    "    Edge(head=start_op.id, tail=sum_op.id, condition=case_0_condition)\n",
    ")\n",
    "graph.add_edge(\n",
    "    Edge(head=start_op.id, tail=diff_op.id, condition=case_1_condition)\n",
    ")\n",
    "\n",
    "# Both paths lead to transform\n",
    "graph.add_edge(Edge(head=sum_op.id, tail=transform_op.id))\n",
    "graph.add_edge(Edge(head=diff_op.id, tail=transform_op.id))"
   ]
  },
  {
   "cell_type": "code",
   "execution_count": 6,
   "metadata": {},
   "outputs": [
    {
     "data": {
      "image/png": "[encoded data removed]",
      "text/plain": [
       "<Figure size 640x480 with 1 Axes>"
      ]
     },
     "metadata": {},
     "output_type": "display_data"
    }
   ],
   "source": [
    "# Visualize the graph\n",
    "graph.display()"
   ]
  },
  {
   "cell_type": "markdown",
   "metadata": {},
   "source": [
    "## Execute the Workflow"
   ]
  },
  {
   "cell_type": "code",
   "execution_count": 7,
   "metadata": {},
   "outputs": [
    {
     "name": "stdout",
     "output_type": "stream",
     "text": [
      "Pre-allocated 3 branches\n",
      "Warning: Operation 98164801 using default branch (not pre-allocated)\n",
      "Executing operation: 98164801\n",
      "Completed operation: 98164801\n",
      "Operation 049212a0 waiting for 98164801\n",
      "Skipping operation due to edge conditions: ad0f8071\n",
      "Executing operation: 049212a0\n",
      "Completed operation: 049212a0\n",
      "Operation 793fa83d waiting for 049212a0\n",
      "Operation 793fa83d waiting for ad0f8071\n",
      "Executing operation: 793fa83d\n",
      "Completed operation: 793fa83d\n",
      "\n",
      "Case 0 Results:\n",
      "Completed operations: [UUID(98164801-17dd-47d1-a1fb-c49c8de06c52), UUID(049212a0-883c-4fe2-ac3a-31096ea15931), UUID(793fa83d-1315-46f4-ae62-f01a0f9cddaf)]\n",
      "Final result: 12\n"
     ]
    }
   ],
   "source": [
    "# Test case 0: Sum absolute values\n",
    "result_case_0 = await session.flow(\n",
    "    graph,\n",
    "    context={\"x\": -6, \"y\": 0, \"case\": 0},\n",
    "    parallel=True,  # Use parallel execution (now fixed!)\n",
    "    verbose=True,\n",
    ")\n",
    "\n",
    "print(\"\\nCase 0 Results:\")\n",
    "print(f\"Completed operations: {result_case_0['completed_operations']}\")\n",
    "print(f\"Final result: {result_case_0['operation_results'][transform_op.id]}\")"
   ]
  },
  {
   "cell_type": "code",
   "execution_count": 8,
   "metadata": {},
   "outputs": [
    {
     "name": "stdout",
     "output_type": "stream",
     "text": [
      "Pre-allocated 1 branches\n",
      "Skipping already completed operation: 049212a0\n",
      "Skipping already completed operation: 793fa83d\n",
      "Skipping already completed operation: 98164801\n",
      "Operation ad0f8071 waiting for 98164801\n",
      "Executing operation: ad0f8071\n",
      "Completed operation: ad0f8071\n",
      "\n",
      "Case 1 Results:\n",
      "Completed operations: [UUID(049212a0-883c-4fe2-ac3a-31096ea15931), UUID(793fa83d-1315-46f4-ae62-f01a0f9cddaf), UUID(98164801-17dd-47d1-a1fb-c49c8de06c52), UUID(ad0f8071-3ef1-4d1e-b103-0a46f0c033bf)]\n",
      "Final result: 12\n"
     ]
    }
   ],
   "source": [
    "# Test case 1: Diff absolute values\n",
    "result_case_1 = await session.flow(\n",
    "    graph,\n",
    "    context={\"x\": -6, \"y\": 0, \"case\": 1},\n",
    "    parallel=True,  # Use parallel execution (now fixed!)\n",
    "    verbose=True,\n",
    ")\n",
    "\n",
    "print(\"\\nCase 1 Results:\")\n",
    "print(f\"Completed operations: {result_case_1['completed_operations']}\")\n",
    "print(f\"Final result: {result_case_1['operation_results'][transform_op.id]}\")"
   ]
  },
  {
   "cell_type": "markdown",
   "metadata": {},
   "source": [
    "## View Conversation History"
   ]
  },
  {
   "cell_type": "code",
   "execution_count": 9,
   "metadata": {},
   "outputs": [
    {
     "data": {
      "text/html": [
       "<div>\n",
       "<style scoped>\n",
       "    .dataframe tbody tr th:only-of-type {\n",
       "        vertical-align: middle;\n",
       "    }\n",
       "\n",
       "    .dataframe tbody tr th {\n",
       "        vertical-align: top;\n",
       "    }\n",
       "\n",
       "    .dataframe thead th {\n",
       "        text-align: right;\n",
       "    }\n",
       "</style>\n",
       "<table border=\"1\" class=\"dataframe\">\n",
       "  <thead>\n",
       "    <tr style=\"text-align: right;\">\n",
       "      <th></th>\n",
       "      <th>created_at</th>\n",
       "      <th>role</th>\n",
       "      <th>content</th>\n",
       "    </tr>\n",
       "  </thead>\n",
       "  <tbody>\n",
       "    <tr>\n",
       "      <th>0</th>\n",
       "      <td>1.757718e+09</td>\n",
       "      <td>system</td>\n",
       "      <td>{'system_message': 'You are asked to perform a...</td>\n",
       "    </tr>\n",
       "  </tbody>\n",
       "</table>\n",
       "</div>"
      ],
      "text/plain": [
       "     created_at    role                                            content\n",
       "0  1.757718e+09  system  {'system_message': 'You are asked to perform a..."
      ]
     },
     "execution_count": 9,
     "metadata": {},
     "output_type": "execute_result"
    }
   ],
   "source": [
    "# Convert branch messages to DataFrame for easy viewing\n",
    "df = calc_branch.to_df()\n",
    "df[[\"created_at\", \"role\", \"content\"]]"
   ]
  },
  {
   "cell_type": "markdown",
   "metadata": {},
   "source": [
    "## Advanced Example: Multi-Step Conditional Logic"
   ]
  },
  {
   "cell_type": "code",
   "execution_count": 10,
   "metadata": {},
   "outputs": [],
   "source": [
    "# Create a more complex workflow with multiple conditions\n",
    "# This example demonstrates nested conditions and parallel paths\n",
    "\n",
    "# Create new session for this example\n",
    "from typing import Literal\n",
    "from pydantic import BaseModel\n",
    "\n",
    "\n",
    "session2 = Session()\n",
    "branch2 = session2.new_branch(\n",
    "    system=\"You are a helpful assistant that processes data step by step.\"\n",
    ")\n",
    "session2.default_branch = branch2\n",
    "\n",
    "\n",
    "class DataType(BaseModel):\n",
    "    data_type: Literal[\"numeric\", \"text\", \"mixed\"]\n",
    "    confidence: float\n",
    "\n",
    "\n",
    "# Create operations\n",
    "analyze_op = Operation(\n",
    "    operation=\"operate\",\n",
    "    parameters={\n",
    "        \"instruction\": \"Analyze the input data and classify it as 'numeric', 'text', or 'mixed'\",\n",
    "        \"response_format\": DataType,\n",
    "    },\n",
    ")\n",
    "\n",
    "# Different processing paths based on data type\n",
    "numeric_process = Operation(\n",
    "    operation=\"chat\",\n",
    "    parameters={\n",
    "        \"instruction\": \"Calculate statistical summary (mean, median, range) of the numeric data\"\n",
    "    },\n",
    ")\n",
    "\n",
    "text_process = Operation(\n",
    "    operation=\"chat\",\n",
    "    parameters={\n",
    "        \"instruction\": \"Provide word count, character count, and identify key themes\"\n",
    "    },\n",
    ")\n",
    "\n",
    "mixed_process = Operation(\n",
    "    operation=\"ReAct\",\n",
    "    parameters={\n",
    "        \"instruct\": {\n",
    "            \"instruction\": \"Process both numeric and text components separately, then combine insights\"\n",
    "        },\n",
    "        \"max_extensions\": 2,\n",
    "    },\n",
    ")\n",
    "\n",
    "# Final summary\n",
    "summary_op = Operation(\n",
    "    operation=\"chat\",\n",
    "    parameters={\n",
    "        \"instruction\": \"Provide a concise summary of all processing results\"\n",
    "    },\n",
    ")\n",
    "\n",
    "# Build graph\n",
    "complex_graph = Graph()\n",
    "for op in [\n",
    "    analyze_op,\n",
    "    numeric_process,\n",
    "    text_process,\n",
    "    mixed_process,\n",
    "    summary_op,\n",
    "]:\n",
    "    complex_graph.add_node(op)\n",
    "\n",
    "\n",
    "# Define conditions based on analysis results\n",
    "class DataTypeCondition(EdgeCondition):\n",
    "    def __init__(self, expected_type: str):\n",
    "        super().__init__()\n",
    "        self.expected_type = expected_type\n",
    "\n",
    "    async def apply(self, context: dict) -> bool:\n",
    "        # Get the analysis result\n",
    "        analysis_result = context.get(\"result\", {})\n",
    "        if isinstance(analysis_result, dict):\n",
    "            return analysis_result.get(\"data_type\") == self.expected_type\n",
    "        return False\n",
    "\n",
    "\n",
    "# Add conditional edges\n",
    "complex_graph.add_edge(\n",
    "    Edge(\n",
    "        head=analyze_op.id,\n",
    "        tail=numeric_process.id,\n",
    "        condition=DataTypeCondition(\"numeric\"),\n",
    "    )\n",
    ")\n",
    "complex_graph.add_edge(\n",
    "    Edge(\n",
    "        head=analyze_op.id,\n",
    "        tail=text_process.id,\n",
    "        condition=DataTypeCondition(\"text\"),\n",
    "    )\n",
    ")\n",
    "complex_graph.add_edge(\n",
    "    Edge(\n",
    "        head=analyze_op.id,\n",
    "        tail=mixed_process.id,\n",
    "        condition=DataTypeCondition(\"mixed\"),\n",
    "    )\n",
    ")\n",
    "\n",
    "# All paths lead to summary\n",
    "for process_op in [numeric_process, text_process, mixed_process]:\n",
    "    complex_graph.add_edge(Edge(head=process_op.id, tail=summary_op.id))"
   ]
  },
  {
   "cell_type": "code",
   "execution_count": 11,
   "metadata": {},
   "outputs": [
    {
     "name": "stdout",
     "output_type": "stream",
     "text": [
      "\n",
      "Testing with numeric data:\n",
      "Pre-allocated 4 branches\n",
      "Warning: Operation edc58e15 using default branch (not pre-allocated)\n",
      "Executing operation: edc58e15\n",
      "Completed operation: edc58e15\n",
      "Operation 58601ddc waiting for edc58e15\n",
      "Skipping operation due to edge conditions: 767060a6\n",
      "Skipping operation due to edge conditions: 82e4b283\n",
      "Executing operation: 58601ddc\n",
      "Completed operation: 58601ddc\n",
      "Operation 33695a26 waiting for 58601ddc\n",
      "Operation 33695a26 waiting for 767060a6\n",
      "Operation 33695a26 waiting for 82e4b283\n",
      "Executing operation: 33695a26\n",
      "Completed operation: 33695a26\n",
      "Summary: The statistical summary of the data set {1, 2, 3, 4, 5} is:  \n",
      "- Mean = 3  \n",
      "- Median = 3  \n",
      "- Range = 4\n",
      "\n",
      "Testing with text data:\n",
      "Pre-allocated 2 branches\n",
      "Skipping already completed operation: edc58e15\n",
      "Skipping already completed operation: 58601ddc\n",
      "Skipping already completed operation: 33695a26\n",
      "Skipping operation due to edge conditions: 767060a6\n",
      "Skipping operation due to edge conditions: 82e4b283\n",
      "Summary: The statistical summary of the data set {1, 2, 3, 4, 5} is:  \n",
      "- Mean = 3  \n",
      "- Median = 3  \n",
      "- Range = 4\n",
      "\n",
      "Testing with mixed data:\n",
      "Pre-allocated 2 branches\n",
      "Skipping already completed operation: edc58e15\n",
      "Skipping already completed operation: 58601ddc\n",
      "Skipping already completed operation: 33695a26\n",
      "Skipping operation due to edge conditions: 767060a6\n",
      "Skipping operation due to edge conditions: 82e4b283\n",
      "Summary: The statistical summary of the data set {1, 2, 3, 4, 5} is:  \n",
      "- Mean = 3  \n",
      "- Median = 3  \n",
      "- Range = 4\n"
     ]
    }
   ],
   "source": [
    "# Test with different data types\n",
    "test_data = [\n",
    "    {\"data\": [1, 2, 3, 4, 5], \"description\": \"numeric data\"},\n",
    "    {\n",
    "        \"data\": \"The quick brown fox jumps over the lazy dog\",\n",
    "        \"description\": \"text data\",\n",
    "    },\n",
    "    {\n",
    "        \"data\": {\"values\": [10, 20, 30], \"labels\": [\"A\", \"B\", \"C\"]},\n",
    "        \"description\": \"mixed data\",\n",
    "    },\n",
    "]\n",
    "\n",
    "for test_case in test_data:\n",
    "    print(f\"\\nTesting with {test_case['description']}:\")\n",
    "    result = await session2.flow(\n",
    "        complex_graph, context={\"input_data\": test_case[\"data\"]}, verbose=True\n",
    "    )\n",
    "    print(f\"Summary: {result['operation_results'][summary_op.id]}\")"
   ]
  },
  {
   "cell_type": "markdown",
   "metadata": {},
   "source": [
    "## Parallel Execution Example"
   ]
  },
  {
   "cell_type": "code",
   "execution_count": 12,
   "metadata": {},
   "outputs": [
    {
     "name": "stdout",
     "output_type": "stream",
     "text": [
      "Pre-allocated 1 branches\n",
      "Warning: Operation 1c4bd736 using default branch (not pre-allocated)\n",
      "Executing operation: 1c4bd736\n",
      "Warning: Operation 4e836f0d using default branch (not pre-allocated)\n",
      "Executing operation: 4e836f0d\n",
      "Warning: Operation e7813153 using default branch (not pre-allocated)\n",
      "Executing operation: e7813153\n",
      "Warning: Operation a43e23f5 using default branch (not pre-allocated)\n",
      "Executing operation: a43e23f5\n",
      "Completed operation: 4e836f0d\n",
      "Completed operation: a43e23f5\n",
      "Completed operation: 1c4bd736\n",
      "Operation 26d3cd53 waiting for 1c4bd736\n",
      "Operation 26d3cd53 waiting for 4e836f0d\n",
      "Operation 26d3cd53 waiting for e7813153\n",
      "Completed operation: e7813153\n",
      "Operation 26d3cd53 waiting for a43e23f5\n",
      "Executing operation: 26d3cd53\n",
      "Completed operation: 26d3cd53\n",
      "\n",
      "Final Recommendation:\n",
      "recommendation='proceed' confidence=0.85 key_insights=['The market potential for an AI-powered personal finance app is strong, supported by increasing consumer demand for personalized digital finance solutions, especially among tech-savvy Millennials, Gen Z, and underserved segments like freelancers.', 'The competitive landscape is mature with established players, but gaps remain in deep AI integration, hyper-personalization, and targeting of underserved user groups, creating opportunities for differentiation.', 'Technical feasibility is confirmed but faces significant challenges including complex data integration across multiple financial institutions, ensuring AI accuracy and bias mitigation, strong security and privacy compliance, and scalable infrastructure needs.', 'Financially, the project requires substantial upfront investment (estimated $500K to $2M) with a medium-term ROI projection of 1-3 years, relying heavily on successful user acquisition, retention, and diversified revenue streams.', 'Key risks span technical accuracy, data privacy breaches, market adoption hurdles, evolving regulatory frameworks, and operational reliability; all require proactive and ongoing mitigation strategies including rigorous testing, compliance efforts, transparent user engagement, and infrastructure resilience.', 'Strategic partnerships with banks, fintech entities, and financial advisors can enhance data access, credibility, and user value, while user trust and experience are critical to gaining market traction.']\n"
     ]
    }
   ],
   "source": [
    "# Create a workflow that benefits from parallel execution\n",
    "from lionagi.session import Session\n",
    "\n",
    "# Create session for multi-branch coordination\n",
    "session3 = Session()\n",
    "\n",
    "# Create parallel analysis operations\n",
    "parallel_ops = [\n",
    "    Operation(\n",
    "        operation=\"chat\",\n",
    "        parameters={\"instruction\": f\"Analyze aspect {i}: {aspect}\"},\n",
    "    )\n",
    "    for i, aspect in enumerate(\n",
    "        [\n",
    "            \"Market potential and competitive landscape\",\n",
    "            \"Technical feasibility and implementation challenges\",\n",
    "            \"Financial requirements and ROI projections\",\n",
    "            \"Risk factors and mitigation strategies\",\n",
    "        ]\n",
    "    )\n",
    "]\n",
    "\n",
    "\n",
    "class Recommendation(BaseModel):\n",
    "    recommendation: Literal[\"proceed\", \"reconsider\", \"reject\"]\n",
    "    confidence: float\n",
    "    key_insights: list[str]\n",
    "\n",
    "\n",
    "# Create synthesis operation\n",
    "synthesis_op = Operation(\n",
    "    operation=\"operate\",\n",
    "    parameters={\n",
    "        \"instruction\": \"Synthesize all analyses into a comprehensive recommendation\",\n",
    "        \"response_format\": Recommendation,\n",
    "    },\n",
    ")\n",
    "\n",
    "# Build parallel graph\n",
    "parallel_graph = Graph()\n",
    "\n",
    "# Add all nodes\n",
    "for op in parallel_ops:\n",
    "    parallel_graph.add_node(op)\n",
    "parallel_graph.add_node(synthesis_op)\n",
    "\n",
    "# Connect all parallel ops to synthesis (no dependencies between them)\n",
    "for op in parallel_ops:\n",
    "    parallel_graph.add_edge(Edge(head=op.id, tail=synthesis_op.id))\n",
    "\n",
    "# Execute with parallel processing\n",
    "parallel_result = await session3.flow(\n",
    "    parallel_graph,\n",
    "    context={\"project\": \"Launch an AI-powered personal finance app\"},\n",
    "    max_concurrent=4,\n",
    "    verbose=True,\n",
    ")\n",
    "\n",
    "print(\"\\nFinal Recommendation:\")\n",
    "print(parallel_result[\"operation_results\"][synthesis_op.id])"
   ]
  }
 ],
 "metadata": {
  "kernelspec": {
   "display_name": "lionagi",
   "language": "python",
   "name": "python3"
  },
  "language_info": {
   "codemirror_mode": {
    "name": "ipython",
    "version": 3
   },
   "file_extension": ".py",
   "mimetype": "text/x-python",
   "name": "python",
   "nbconvert_exporter": "python",
   "pygments_lexer": "ipython3",
   "version": "3.10.15"
  }
 },
 "nbformat": 4,
 "nbformat_minor": 4
}
