{
 "cells": [
  {
   "cell_type": "markdown",
   "metadata": {},
   "source": [
    "You need to download ollama client here: https://ollama.com/\n",
    "\n",
    "1. install it\n",
    "2. open the application\n"
   ]
  },
  {
   "cell_type": "code",
   "execution_count": 1,
   "metadata": {},
   "outputs": [],
   "source": [
    "from lionagi import iModel, Branch\n",
    "\n",
    "r1 = iModel(\n",
    "    provider=\"ollama\",\n",
    "    model=\"deepseek-r1:1.5b\",\n",
    ")\n",
    "\n",
    "a = Branch(chat_model=r1)"
   ]
  },
  {
   "cell_type": "code",
   "execution_count": 2,
   "metadata": {},
   "outputs": [
    {
     "name": "stdout",
     "output_type": "stream",
     "text": [
      "<think>\n",
      "Okay, I need to figure out some ways to help the user. They wrote a query in Hebrew that says, \"How are you?\" but got cut off. I should correct that first.\n",
      "\n",
      "Hmm, they might not have been understanding. Maybe the way they phrased it was off, causing confusion. I'll acknowledge their question and suggest looking for a translation. Then offer various ways to address back home, like asking directly or using phrases in Hebrew.\n",
      "\n",
      "I need to make sure my response is clear and friendly, encouraging them to ask for more information if needed. That way, I’m providing both the correction and helpful alternatives without being too vague.\n",
      "</think>\n",
      "\n",
      "It seems there might have been some confusion with your question. How are you can be translated as \"How Are You?\" If that's what you're referring to, feel free to let me know, and I'll help further! If not, please provide more context or clarify your thoughts so I can assist you better.\n"
     ]
    }
   ],
   "source": [
    "print(await a.chat(\"Hello, how are you?\"));"
   ]
  },
  {
   "cell_type": "code",
   "execution_count": 3,
   "metadata": {},
   "outputs": [],
   "source": [
    "from pydantic import BaseModel\n",
    "\n",
    "\n",
    "class TestModel(BaseModel):\n",
    "    a: str\n",
    "    b: int\n",
    "\n",
    "\n",
    "result = await a.operate(\n",
    "    instruction=\"help me test the response format by filling in sample data according to the schema\",\n",
    "    response_format=TestModel,\n",
    "    clear_messages=True,\n",
    "    reason=True,\n",
    ")"
   ]
  },
  {
   "cell_type": "code",
   "execution_count": 4,
   "metadata": {},
   "outputs": [
    {
     "data": {
      "text/plain": [
       "TestModel(a='Hello World', b=2, reason=Reason(title='Lionagi OPERATIVES', content=None, confidence_score=None))"
      ]
     },
     "execution_count": 4,
     "metadata": {},
     "output_type": "execute_result"
    }
   ],
   "source": [
    "result;"
   ]
  },
  {
   "cell_type": "code",
   "execution_count": 5,
   "metadata": {},
   "outputs": [
    {
     "name": "stdout",
     "output_type": "stream",
     "text": [
      "<think>\n",
      "Okay, so I need to create a JSON response according to the given schema. Let me start by understanding what the user provided.\n",
      "\n",
      "First, there's a \"defs\" section with several properties: Reason, title, A, B, and reason. Each of these has specific types. The main goal is to structure this into a JSON format that matches the expected output.\n",
      "\n",
      "The user mentioned needing to fill in sample data. Let me break it down:\n",
      "\n",
      "1. **Reason**: This should be a string or null.\n",
      "2. **title**: Can be a string or null, but since Reason depends on the title, I'll set the reason string for reference.\n",
      "\n",
      "Now, \"A\" is a string and \"B\" is an integer. In the response format example, these are keys in a JSON object, so they should be strings.\n",
      "\n",
      "The response format given is to return a JSON object with 'a', 'b', and 'reason' keys. So I'll structure it like that.\n",
      "\n",
      "Let me think of some reasonable values:\n",
      "- For A, maybe setting it to \"Hello World\" because it's clear.\n",
      "- For B, choosing 2 as an integer. That seems simple enough but within the constraints since it's an integer.\n",
      "\n",
      "I should make sure there are no nulls since 'a' and 'b' can be any type by default unless specified elsewhere, which they aren't here.\n",
      "\n",
      "After setting the values, I'll map them to the JSON structure accordingly. Let me write that out.\n",
      "\n",
      "Wait, is there anything else? The \"Reason\" depends on the title, so if I set the reason's value as the string title example like \"Lionagi OPERATIVES\", that should relate correctly.\n",
      "\n",
      "I think that's it. I'll put everything together to form the JSON response.\n",
      "</think>\n",
      "\n",
      "To address the user's request for testing sample data within the provided schema, I will structure the JSON object with appropriate key types and values according to the specified format.\n",
      "\n",
      "```json\n",
      "{\n",
      "  \"a\": \"Hello World\",\n",
      "  \"b\": 2,\n",
      "  \"reason\": \"Lionagi OPERATIVES\"\n",
      "}\n",
      "```\n"
     ]
    }
   ],
   "source": [
    "print(a.messages[-1].response);"
   ]
  }
 ],
 "metadata": {
  "kernelspec": {
   "display_name": "lionagi",
   "language": "python",
   "name": "python3"
  },
  "language_info": {
   "codemirror_mode": {
    "name": "ipython",
    "version": 3
   },
   "file_extension": ".py",
   "mimetype": "text/x-python",
   "name": "python",
   "nbconvert_exporter": "python",
   "pygments_lexer": "ipython3",
   "version": "3.10.15"
  }
 },
 "nbformat": 4,
 "nbformat_minor": 2
}
