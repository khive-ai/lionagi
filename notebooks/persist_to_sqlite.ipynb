{
 "cells": [
  {
   "cell_type": "code",
   "execution_count": 1,
   "id": "dc10cc9f",
   "metadata": {},
   "outputs": [],
   "source": [
    "from datetime import datetime\n",
    "from lionagi.protocols.types import Node\n",
    "from lionagi.adapters.async_postgres_adapter import LionAGIAsyncPostgresAdapter\n",
    "\n",
    "\n",
    "class MyNode(Node):\n",
    "    content: dict\n",
    "\n",
    "    @property\n",
    "    def title(self) -> str:\n",
    "        return self.content.get(\"title\", \"\")\n",
    "\n",
    "\n",
    "MyNode.register_async_adapter(LionAGIAsyncPostgresAdapter)\n",
    "\n",
    "node = MyNode(\n",
    "    content={\n",
    "        \"title\": \"My data\",\n",
    "        \"timestamp\": datetime.now(),\n",
    "        \"tags\": [\"example\", \"sqlite\"],\n",
    "    }\n",
    ")\n",
    "\n",
    "result = await node.adapt_to_async(\n",
    "    obj_key=\"lionagi_async_pg\",\n",
    "    dsn=\"sqlite+aiosqlite:///my_database.db\",\n",
    "    table=\"my_nodes\",\n",
    ")"
   ]
  },
  {
   "cell_type": "code",
   "execution_count": null,
   "id": "2910d6e6",
   "metadata": {},
   "outputs": [],
   "source": []
  },
  {
   "cell_type": "code",
   "execution_count": null,
   "id": "891ed110",
   "metadata": {},
   "outputs": [
    {
     "name": "stdout",
     "output_type": "stream",
     "text": [
      "id=UUID(c86ec307-4508-4f4d-9104-6f730e42c6e2) created_at=1753372022.996162 metadata={} content={'title': 'My data', 'timestamp': datetime.datetime(2025, 7, 24, 11, 47, 2, 996133), 'tags': ['example', 'sqlite']} embedding=None\n"
     ]
    }
   ],
   "source": [
    "# get the last node\n",
    "\n",
    "result = await node.adapt_from_async(\n",
    "    {\n",
    "        \"dsn\": \"sqlite+aiosqlite:///my_database.db\",\n",
    "        \"table\": \"my_nodes\",\n",
    "    },\n",
    "    obj_key=\"lionagi_async_pg\",\n",
    ")\n",
    "\n",
    "print(result)"
   ]
  },
  {
   "cell_type": "code",
   "execution_count": 3,
   "id": "3ed94184",
   "metadata": {},
   "outputs": [
    {
     "name": "stdout",
     "output_type": "stream",
     "text": [
      "[MyNode(id=UUID(0febfae1-c71c-46ef-b41b-e9a08e6e1e6c), created_at=1753363623.174553, metadata={}, content={'title': 'My data', 'timestamp': datetime.datetime(2025, 7, 24, 9, 27, 3, 174525), 'tags': ['example', 'sqlite']}, embedding=None), MyNode(id=UUID(c8aceb3d-21ca-4cc9-8010-c05be3671c8a), created_at=1753371704.002588, metadata={}, content={'title': 'My data', 'timestamp': datetime.datetime(2025, 7, 24, 11, 41, 44, 2564), 'tags': ['example', 'sqlite']}, embedding=None), MyNode(id=UUID(bd783f99-984a-43b4-a9aa-e6fb694fb5c2), created_at=1753371830.383789, metadata={}, content={'title': 'My data', 'timestamp': datetime.datetime(2025, 7, 24, 11, 43, 50, 383762), 'tags': ['example', 'sqlite']}, embedding=None), MyNode(id=UUID(ac383f9b-3474-4d7b-9c87-caa4b343a481), created_at=1753371874.899688, metadata={}, content={'title': 'My data', 'timestamp': datetime.datetime(2025, 7, 24, 11, 44, 34, 899658), 'tags': ['example', 'sqlite']}, embedding=None), MyNode(id=UUID(fc0e0a60-5813-4071-b2e2-973ffb1b5b14), created_at=1753371891.361337, metadata={}, content={'title': 'My data', 'timestamp': datetime.datetime(2025, 7, 24, 11, 44, 51, 361310), 'tags': ['example', 'sqlite']}, embedding=None), MyNode(id=UUID(288f3ae5-af53-48b6-8406-98266297d289), created_at=1753371936.187652, metadata={}, content={'title': 'My data', 'timestamp': datetime.datetime(2025, 7, 24, 11, 45, 36, 187622), 'tags': ['example', 'sqlite']}, embedding=None), MyNode(id=UUID(c86ec307-4508-4f4d-9104-6f730e42c6e2), created_at=1753372022.996162, metadata={}, content={'title': 'My data', 'timestamp': datetime.datetime(2025, 7, 24, 11, 47, 2, 996133), 'tags': ['example', 'sqlite']}, embedding=None)]\n"
     ]
    }
   ],
   "source": [
    "# get all nodes\n",
    "\n",
    "result = await node.adapt_from_async(\n",
    "    {\n",
    "        \"obj_key\": \"lionagi_async_pg\",\n",
    "        \"dsn\": \"sqlite+aiosqlite:///my_database.db\",\n",
    "        \"table\": \"my_nodes\",\n",
    "    },\n",
    "    obj_key=\"lionagi_async_pg\",\n",
    "    many=True,\n",
    ")\n",
    "\n",
    "print(result)"
   ]
  }
 ],
 "metadata": {
  "kernelspec": {
   "display_name": "lionagi",
   "language": "python",
   "name": "python3"
  },
  "language_info": {
   "codemirror_mode": {
    "name": "ipython",
    "version": 3
   },
   "file_extension": ".py",
   "mimetype": "text/x-python",
   "name": "python",
   "nbconvert_exporter": "python",
   "pygments_lexer": "ipython3",
   "version": "3.10.15"
  }
 },
 "nbformat": 4,
 "nbformat_minor": 5
}
