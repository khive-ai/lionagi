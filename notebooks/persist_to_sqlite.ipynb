{
 "cells": [
  {
   "cell_type": "code",
   "execution_count": 1,
   "id": "dc10cc9f",
   "metadata": {},
   "outputs": [],
   "source": [
    "from datetime import datetime\n",
    "from lionagi.protocols.types import Node\n",
    "from lionagi.adapters.async_postgres_adapter import LionAGIAsyncPostgresAdapter\n",
    "\n",
    "\n",
    "class MyNode(Node):\n",
    "    content: dict\n",
    "\n",
    "    @property\n",
    "    def title(self) -> str:\n",
    "        return self.content.get(\"title\", \"\")\n",
    "\n",
    "\n",
    "MyNode.register_async_adapter(LionAGIAsyncPostgresAdapter)\n",
    "\n",
    "node = MyNode(\n",
    "    content={\n",
    "        \"title\": \"My data\",\n",
    "        \"timestamp\": datetime.now(),\n",
    "        \"tags\": [\"example\", \"sqlite\"],\n",
    "    }\n",
    ")\n",
    "\n",
    "result = await node.adapt_to_async(\n",
    "    obj_key=\"lionagi_async_pg\",\n",
    "    dsn=\"sqlite+aiosqlite:///my_database.db\",\n",
    "    table=\"my_nodes\",\n",
    ")"
   ]
  },
  {
   "cell_type": "code",
   "execution_count": 2,
   "id": "6a1f311e",
   "metadata": {},
   "outputs": [
    {
     "name": "stdout",
     "output_type": "stream",
     "text": [
      "id=IDType(0febfae1-c71c-46ef-b41b-e9a08e6e1e6c) created_at=1753363623.174553 metadata={} content={'title': 'My data', 'timestamp': datetime.datetime(2025, 7, 24, 9, 27, 3, 174525), 'tags': ['example', 'sqlite']} embedding=None\n",
      "id=IDType(8d8839b5-e415-4aee-bbdb-6b25effb02fb) created_at=1753366343.339074 metadata={} content={'title': 'My data', 'timestamp': datetime.datetime(2025, 7, 24, 10, 12, 23, 339049), 'tags': ['example', 'sqlite']} embedding=None\n",
      "id=IDType(0a1e9223-f618-4a32-9521-d1f5db43be8e) created_at=1753366560.578621 metadata={} content={'title': 'My data', 'timestamp': datetime.datetime(2025, 7, 24, 10, 16, 0, 578593), 'tags': ['example', 'sqlite']} embedding=None\n",
      "id=IDType(01c1c872-d24a-4492-b1cd-8db11d7b3ca0) created_at=1753366713.095372 metadata={} content={'title': 'My data', 'timestamp': datetime.datetime(2025, 7, 24, 10, 18, 33, 95344), 'tags': ['example', 'sqlite']} embedding=None\n",
      "id=IDType(e68d3d67-e64b-463b-9475-f1082af29806) created_at=1753370610.145469 metadata={} content={'title': 'My data', 'timestamp': datetime.datetime(2025, 7, 24, 11, 23, 30, 145442), 'tags': ['example', 'sqlite']} embedding=None\n"
     ]
    }
   ],
   "source": [
    "all_nodes = await MyNode.adapt_from_async(\n",
    "    {\n",
    "        \"dsn\": \"sqlite+aiosqlite:///my_database.db\",\n",
    "        \"table\": \"my_nodes\",\n",
    "    },\n",
    "    obj_key=\"lionagi_async_pg\",\n",
    "    many=True,\n",
    ")\n",
    "\n",
    "for i in all_nodes:\n",
    "    print(i)"
   ]
  }
 ],
 "metadata": {
  "kernelspec": {
   "display_name": "lionagi",
   "language": "python",
   "name": "python3"
  },
  "language_info": {
   "codemirror_mode": {
    "name": "ipython",
    "version": 3
   },
   "file_extension": ".py",
   "mimetype": "text/x-python",
   "name": "python",
   "nbconvert_exporter": "python",
   "pygments_lexer": "ipython3",
   "version": "3.10.15"
  }
 },
 "nbformat": 4,
 "nbformat_minor": 5
}
