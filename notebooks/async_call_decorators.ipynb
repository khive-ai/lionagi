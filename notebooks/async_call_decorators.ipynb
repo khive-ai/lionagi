{
 "cells": [
  {
   "cell_type": "markdown",
   "metadata": {},
   "source": [
    "# Function Call Decorators\n",
    "\n",
    "Another way to add features to your function calling would be via decorators,\n",
    "\n",
    "LionAGI allows you to use the following for any sync and async functions\n",
    "\n",
    "- `cache`   : keep the result in memory, if encountered same parameter input, will give output directly\n",
    "- `throttle`    : set the time between each consecutive function call\n",
    "- `map`\n",
    "- `compose`     : apply multiple functions: The output of each function is passed as the input to the next, in the order they are provided\n",
    "- `pre_post_process`    \n",
    "- `filter`\n",
    "- `reduce`  : reduces the results of a function to a single value using the specified reduction function\n",
    "\n",
    "the following decorators only works for async functions\n",
    "- `max_concurrent`\n",
    "- `timeout` \n",
    "- `retry`\n",
    "- `default`"
   ]
  },
  {
   "cell_type": "code",
   "execution_count": 1,
   "metadata": {},
   "outputs": [],
   "source": [
    "import asyncio\n",
    "from lionagi.libs import func_call, CallDecorator as cd"
   ]
  },
  {
   "cell_type": "markdown",
   "metadata": {},
   "source": [
    "the decorator works with both sync and async functions"
   ]
  },
  {
   "cell_type": "markdown",
   "metadata": {},
   "source": [
    "### Sync and Async"
   ]
  },
  {
   "cell_type": "markdown",
   "metadata": {},
   "source": [
    "`@cd.cache`\n",
    "\n",
    "keep function result in memory"
   ]
  },
  {
   "cell_type": "code",
   "execution_count": 2,
   "metadata": {},
   "outputs": [
    {
     "name": "stdout",
     "output_type": "stream",
     "text": [
      "result: 100_000_000, elapse: 0.505 seconds\n",
      "result: 100_000_000, elapse: 0.000 seconds\n"
     ]
    }
   ],
   "source": [
    "# sync\n",
    "import time\n",
    "\n",
    "\n",
    "@cd.cache\n",
    "def square_data(x):\n",
    "    time.sleep(0.5)\n",
    "    return x**2\n",
    "\n",
    "\n",
    "result, elapse = await func_call.tcall(x=10_000, func=square_data, delay=0, timing=True)\n",
    "print(f\"result: {result:_}, elapse: {elapse:.03f} seconds\")\n",
    "\n",
    "result, elapse = await func_call.tcall(x=10_000, func=square_data, delay=0, timing=True)\n",
    "print(f\"result: {result:_}, elapse: {elapse:.03f} seconds\")"
   ]
  },
  {
   "cell_type": "code",
   "execution_count": 3,
   "metadata": {},
   "outputs": [
    {
     "name": "stdout",
     "output_type": "stream",
     "text": [
      "result: 100_000_000, elapse: 0.501 seconds\n",
      "result: 100_000_000, elapse: 0.000 seconds\n"
     ]
    }
   ],
   "source": [
    "# async\n",
    "@cd.cache\n",
    "async def asquare_data(x):\n",
    "    await asyncio.sleep(0.5)\n",
    "    return x * x\n",
    "\n",
    "\n",
    "result, elapse = await func_call.tcall(\n",
    "    x=10_000, func=asquare_data, delay=0, timing=True\n",
    ")\n",
    "print(f\"result: {result:_}, elapse: {elapse:.03f} seconds\")\n",
    "\n",
    "result, elapse = await func_call.tcall(\n",
    "    x=10_000, func=asquare_data, delay=0, timing=True\n",
    ")\n",
    "print(f\"result: {result:_}, elapse: {elapse:.03f} seconds\")"
   ]
  },
  {
   "cell_type": "markdown",
   "metadata": {},
   "source": [
    "`@cd.filter`"
   ]
  },
  {
   "cell_type": "code",
   "execution_count": 4,
   "metadata": {},
   "outputs": [
    {
     "name": "stdout",
     "output_type": "stream",
     "text": [
      "[0]\n",
      "[25]\n"
     ]
    }
   ],
   "source": [
    "# filters can be used to filter the output upon the predicate\n",
    "@cd.filter(predicate=lambda y: y < 10)\n",
    "def square_data(x):\n",
    "    return [0, x**2]\n",
    "\n",
    "\n",
    "print(square_data(5))\n",
    "\n",
    "\n",
    "# async\n",
    "@cd.filter(predicate=lambda y: y > 10)\n",
    "async def asquare_data(x):\n",
    "    return [0, x**2]\n",
    "\n",
    "\n",
    "print(await asquare_data(5))"
   ]
  },
  {
   "cell_type": "markdown",
   "metadata": {},
   "source": [
    "`@cd.throttle` "
   ]
  },
  {
   "cell_type": "code",
   "execution_count": 5,
   "metadata": {},
   "outputs": [
    {
     "name": "stdout",
     "output_type": "stream",
     "text": [
      "[0, 1, 4, 9, 16]\n"
     ]
    }
   ],
   "source": [
    "# sync\n",
    "# this block should take 0.8 seconds to run, because for 5 elements, there are 4 intervals of 0.2 seconds\n",
    "@cd.throttle(0.2)\n",
    "def square_data(x):\n",
    "    return x**2\n",
    "\n",
    "\n",
    "print(func_call.lcall(range(5), square_data))"
   ]
  },
  {
   "cell_type": "code",
   "execution_count": 6,
   "metadata": {},
   "outputs": [
    {
     "data": {
      "text/plain": [
       "[0, 1, 4, 9, 16]"
      ]
     },
     "execution_count": 6,
     "metadata": {},
     "output_type": "execute_result"
    }
   ],
   "source": [
    "# async\n",
    "@cd.throttle(0.2)\n",
    "async def asquare_data(x):\n",
    "    return x**2\n",
    "\n",
    "\n",
    "await func_call.alcall(range(5), asquare_data)"
   ]
  },
  {
   "cell_type": "markdown",
   "metadata": {},
   "source": [
    "`@cd.pre_post_process`"
   ]
  },
  {
   "cell_type": "code",
   "execution_count": 7,
   "metadata": {},
   "outputs": [
    {
     "name": "stdout",
     "output_type": "stream",
     "text": [
      "36\n",
      "64\n"
     ]
    }
   ],
   "source": [
    "# this decorator will apply the preprocess and postprocess function to the\n",
    "# input and output respectively\n",
    "# sync\n",
    "@cd.pre_post_process(preprocess=lambda x: x + 1, postprocess=lambda x: x**2)\n",
    "def get_5(x):\n",
    "    return x\n",
    "\n",
    "\n",
    "print(get_5(5))\n",
    "\n",
    "\n",
    "# async\n",
    "@cd.pre_post_process(preprocess=lambda x: x - 1, postprocess=lambda x: x**3)\n",
    "async def get_5(x):\n",
    "    return x\n",
    "\n",
    "\n",
    "print(await get_5(5))"
   ]
  },
  {
   "cell_type": "markdown",
   "metadata": {},
   "source": [
    "`@cd.compose`"
   ]
  },
  {
   "cell_type": "code",
   "execution_count": 8,
   "metadata": {},
   "outputs": [
    {
     "name": "stdout",
     "output_type": "stream",
     "text": [
      "8\n"
     ]
    }
   ],
   "source": [
    "f1 = lambda x: x + 1\n",
    "f2 = lambda x: x * 2\n",
    "\n",
    "\n",
    "# this decorator will compose the functions into a single funtion\n",
    "@cd.compose(f1, f2)\n",
    "def increment_and_double(x):\n",
    "    return x\n",
    "\n",
    "\n",
    "result = increment_and_double(3)  # first increment_and_double return 3 to f1\n",
    "print(result)  # f1 returns (3+1), then that becomes f2 input, then f2 outputs 2*4 = 8"
   ]
  },
  {
   "cell_type": "code",
   "execution_count": 9,
   "metadata": {},
   "outputs": [
    {
     "name": "stdout",
     "output_type": "stream",
     "text": [
      "8\n"
     ]
    }
   ],
   "source": [
    "async def f1(\n",
    "    coroutine_,\n",
    "):  # here the coroutine is the function that is being decorated on,\n",
    "    a = await coroutine_\n",
    "    return a + 1\n",
    "\n",
    "\n",
    "async def f2(x):  # the output from f1 is an integer\n",
    "    return x * 2\n",
    "\n",
    "\n",
    "@cd.compose(f1, f2)  # meaning f2( f1( func(x)))where func(x) is a coroutine\n",
    "async def aincrement_and_double(x):\n",
    "    return x\n",
    "\n",
    "\n",
    "result = await aincrement_and_double(\n",
    "    3\n",
    ")  # here because this is an async function, we need to await it in f1\n",
    "print(result)"
   ]
  },
  {
   "cell_type": "markdown",
   "metadata": {},
   "source": [
    "`@cd.map`"
   ]
  },
  {
   "cell_type": "code",
   "execution_count": 10,
   "metadata": {},
   "outputs": [
    {
     "name": "stdout",
     "output_type": "stream",
     "text": [
      "[1, 4, 9, 16, 25]\n"
     ]
    }
   ],
   "source": [
    "# this decorator allows you to map a function to a list of inputs\n",
    "@cd.map(lambda x: x * x)\n",
    "def square_numbers(numbers):\n",
    "    return numbers\n",
    "\n",
    "\n",
    "numbers = [1, 2, 3, 4, 5]\n",
    "squared_numbers = square_numbers(numbers)\n",
    "print(squared_numbers)"
   ]
  },
  {
   "cell_type": "code",
   "execution_count": 11,
   "metadata": {},
   "outputs": [
    {
     "data": {
      "text/plain": [
       "[2, 5, 10, 17, 26]"
      ]
     },
     "execution_count": 11,
     "metadata": {},
     "output_type": "execute_result"
    }
   ],
   "source": [
    "# this decorator allows you to map a function to a list of inputs\n",
    "@cd.map(lambda x: x * x + 1)\n",
    "async def square_numbers(numbers):\n",
    "    return numbers\n",
    "\n",
    "\n",
    "numbers = [1, 2, 3, 4, 5]\n",
    "await square_numbers(numbers)"
   ]
  },
  {
   "cell_type": "markdown",
   "metadata": {},
   "source": [
    "`@cd.reduce`"
   ]
  },
  {
   "cell_type": "code",
   "execution_count": 12,
   "metadata": {},
   "outputs": [
    {
     "data": {
      "text/plain": [
       "15"
      ]
     },
     "execution_count": 12,
     "metadata": {},
     "output_type": "execute_result"
    }
   ],
   "source": [
    "# this decorator reduces the sequence to a single value\n",
    "@cd.reduce(lambda x, y: x + y, 0)\n",
    "def sum_numbers(numbers):\n",
    "    return numbers\n",
    "\n",
    "\n",
    "numbers = [1, 2, 3, 4, 5]\n",
    "sum_numbers(numbers)"
   ]
  },
  {
   "cell_type": "code",
   "execution_count": 13,
   "metadata": {},
   "outputs": [
    {
     "data": {
      "text/plain": [
       "-15"
      ]
     },
     "execution_count": 13,
     "metadata": {},
     "output_type": "execute_result"
    }
   ],
   "source": [
    "@cd.reduce(lambda x, y: x - y, 0)\n",
    "async def minus_numbers(numbers):\n",
    "    return numbers\n",
    "\n",
    "\n",
    "numbers = [1, 2, 3, 4, 5]\n",
    "await minus_numbers(numbers)"
   ]
  },
  {
   "cell_type": "markdown",
   "metadata": {},
   "source": [
    "### Async only"
   ]
  },
  {
   "cell_type": "markdown",
   "metadata": {},
   "source": [
    "`cd.retry`"
   ]
  },
  {
   "cell_type": "code",
   "execution_count": 14,
   "metadata": {},
   "outputs": [
    {
     "name": "stdout",
     "output_type": "stream",
     "text": [
      "Attempt 1/3 failed: Simulated error, retrying...\n",
      "Attempt 2/3 failed: Simulated error, retrying...\n",
      "Attempt 3/3 failed: Simulated error, retrying...\n",
      "Ellipsis\n"
     ]
    }
   ],
   "source": [
    "# this decorator will retry the function call if it fails\n",
    "# initial_delay is the time in seconds to wait before the first retry\n",
    "# should take 0.7 second to run - first delay 0.1, second delay 0.2, third delay 0.4\n",
    "\n",
    "\n",
    "@cd.retry(retries=3, delay=0.1, backoff_factor=2)\n",
    "async def retry_function(attempt):\n",
    "    if attempt < 3:\n",
    "        raise ValueError(\"Simulated error\")\n",
    "    return \"Success\"\n",
    "\n",
    "\n",
    "try:\n",
    "    result = await retry_function(1)\n",
    "    print(result)\n",
    "except ValueError as e:\n",
    "    print(f\"Function call failed after retries: {e}\")"
   ]
  },
  {
   "cell_type": "markdown",
   "metadata": {},
   "source": [
    "`@cd.timeout`"
   ]
  },
  {
   "cell_type": "code",
   "execution_count": 15,
   "metadata": {},
   "outputs": [
    {
     "name": "stdout",
     "output_type": "stream",
     "text": [
      "Function call timed out: Operation failed after 1 attempts: Timeout 0.5 seconds exceeded\n"
     ]
    }
   ],
   "source": [
    "# this decorator sets a timeout limit in seconds for the function to run\n",
    "@cd.timeout(0.5)\n",
    "async def timeout_function():\n",
    "    await asyncio.sleep(2)\n",
    "    return \"Completed\"\n",
    "\n",
    "\n",
    "try:\n",
    "    result = await timeout_function()\n",
    "    print(result)\n",
    "except Exception as e:\n",
    "    print(f\"Function call timed out: {e}\")"
   ]
  },
  {
   "cell_type": "markdown",
   "metadata": {},
   "source": [
    "`@cd.max_concurrent`\n"
   ]
  },
  {
   "cell_type": "code",
   "execution_count": 16,
   "metadata": {},
   "outputs": [
    {
     "name": "stdout",
     "output_type": "stream",
     "text": [
      "[0, 2, 4, 6, 8]\n"
     ]
    }
   ],
   "source": [
    "# this should take 1.5 seconds to run\n",
    "# limits the amount of concurrent function calls, in this case at most 2 calls at a time\n",
    "@cd.max_concurrent(limit=2)\n",
    "async def limited_concurrency_function(x):\n",
    "    await asyncio.sleep(0.5)\n",
    "    return x * 2\n",
    "\n",
    "\n",
    "async def run_max_concurrent_example():\n",
    "    results = await func_call.alcall(range(5), limited_concurrency_function)\n",
    "    print(results)\n",
    "\n",
    "\n",
    "await run_max_concurrent_example()"
   ]
  },
  {
   "cell_type": "markdown",
   "metadata": {},
   "source": [
    "`cd.default`"
   ]
  },
  {
   "cell_type": "code",
   "execution_count": 17,
   "metadata": {},
   "outputs": [
    {
     "name": "stdout",
     "output_type": "stream",
     "text": [
      "Default Result\n"
     ]
    }
   ],
   "source": [
    "# this decorator will return a default value if the function fails\n",
    "@cd.default(default_value=\"Default Result\")\n",
    "async def default_function(may_fail):\n",
    "    if may_fail:\n",
    "        raise ValueError(\"Simulated error\")\n",
    "    return \"Success\"\n",
    "\n",
    "\n",
    "result = await default_function(True)\n",
    "print(result)"
   ]
  }
 ],
 "metadata": {
  "kernelspec": {
   "display_name": "hub_test",
   "language": "python",
   "name": "python3"
  },
  "language_info": {
   "codemirror_mode": {
    "name": "ipython",
    "version": 3
   },
   "file_extension": ".py",
   "mimetype": "text/x-python",
   "name": "python",
   "nbconvert_exporter": "python",
   "pygments_lexer": "ipython3",
   "version": "3.12.1"
  }
 },
 "nbformat": 4,
 "nbformat_minor": 2
}
