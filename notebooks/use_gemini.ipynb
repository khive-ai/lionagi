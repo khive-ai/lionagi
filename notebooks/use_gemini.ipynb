{
 "cells": [
  {
   "cell_type": "code",
   "execution_count": 1,
   "metadata": {},
   "outputs": [],
   "source": []
  },
  {
   "cell_type": "code",
   "execution_count": 2,
   "metadata": {},
   "outputs": [],
   "source": []
  },
  {
   "cell_type": "code",
   "execution_count": 3,
   "metadata": {},
   "outputs": [
    {
     "data": {
      "text/plain": [
       "'/opt/homebrew/bin/uv'"
      ]
     },
     "execution_count": 3,
     "metadata": {},
     "output_type": "execute_result"
    }
   ],
   "source": [
    "uv_path"
   ]
  },
  {
   "cell_type": "code",
   "execution_count": null,
   "metadata": {},
   "outputs": [],
   "source": []
  },
  {
   "cell_type": "code",
   "execution_count": 9,
   "metadata": {},
   "outputs": [
    {
     "ename": "CalledProcessError",
     "evalue": "Command '['pip', 'install', 'docling']' returned non-zero exit status 1.",
     "output_type": "error",
     "traceback": [
      "\u001b[0;31m---------------------------------------------------------------------------\u001b[0m",
      "\u001b[0;31mCalledProcessError\u001b[0m                        Traceback (most recent call last)",
      "Cell \u001b[0;32mIn[9], line 1\u001b[0m\n\u001b[0;32m----> 1\u001b[0m \u001b[43msubprocess\u001b[49m\u001b[38;5;241;43m.\u001b[39;49m\u001b[43mrun\u001b[49m\u001b[43m(\u001b[49m\u001b[43m[\u001b[49m\u001b[38;5;124;43m\"\u001b[39;49m\u001b[38;5;124;43mpip\u001b[39;49m\u001b[38;5;124;43m\"\u001b[39;49m\u001b[43m,\u001b[49m\u001b[43m \u001b[49m\u001b[38;5;124;43m\"\u001b[39;49m\u001b[38;5;124;43minstall\u001b[39;49m\u001b[38;5;124;43m\"\u001b[39;49m\u001b[43m,\u001b[49m\u001b[43m \u001b[49m\u001b[38;5;124;43m\"\u001b[39;49m\u001b[38;5;124;43mdocling\u001b[39;49m\u001b[38;5;124;43m\"\u001b[39;49m\u001b[43m]\u001b[49m\u001b[43m,\u001b[49m\u001b[43m \u001b[49m\u001b[43mcheck\u001b[49m\u001b[38;5;241;43m=\u001b[39;49m\u001b[38;5;28;43;01mTrue\u001b[39;49;00m\u001b[43m,\u001b[49m\u001b[43m \u001b[49m\u001b[43mcapture_output\u001b[49m\u001b[38;5;241;43m=\u001b[39;49m\u001b[38;5;28;43;01mTrue\u001b[39;49;00m\u001b[43m)\u001b[49m\n",
      "File \u001b[0;32m/opt/homebrew/Cellar/python@3.10/3.10.16/Frameworks/Python.framework/Versions/3.10/lib/python3.10/subprocess.py:526\u001b[0m, in \u001b[0;36mrun\u001b[0;34m(input, capture_output, timeout, check, *popenargs, **kwargs)\u001b[0m\n\u001b[1;32m    524\u001b[0m     retcode \u001b[38;5;241m=\u001b[39m process\u001b[38;5;241m.\u001b[39mpoll()\n\u001b[1;32m    525\u001b[0m     \u001b[38;5;28;01mif\u001b[39;00m check \u001b[38;5;129;01mand\u001b[39;00m retcode:\n\u001b[0;32m--> 526\u001b[0m         \u001b[38;5;28;01mraise\u001b[39;00m CalledProcessError(retcode, process\u001b[38;5;241m.\u001b[39margs,\n\u001b[1;32m    527\u001b[0m                                  output\u001b[38;5;241m=\u001b[39mstdout, stderr\u001b[38;5;241m=\u001b[39mstderr)\n\u001b[1;32m    528\u001b[0m \u001b[38;5;28;01mreturn\u001b[39;00m CompletedProcess(process\u001b[38;5;241m.\u001b[39margs, retcode, stdout, stderr)\n",
      "\u001b[0;31mCalledProcessError\u001b[0m: Command '['pip', 'install', 'docling']' returned non-zero exit status 1."
     ]
    }
   ],
   "source": []
  },
  {
   "cell_type": "code",
   "execution_count": null,
   "metadata": {},
   "outputs": [],
   "source": [
    "import shutil\n",
    "import subprocess\n",
    "import sys\n",
    "from typing import Sequence\n",
    "\n",
    "\n",
    "def run_package_manager_command(\n",
    "    args: Sequence[str],\n",
    ") -> subprocess.CompletedProcess[bytes]:\n",
    "    \"\"\"Run a package manager command, using uv if available, otherwise falling back to pip.\"\"\"\n",
    "    # Check if uv is available in PATH\n",
    "    uv_path = shutil.which(\"uv\")\n",
    "\n",
    "    if uv_path:\n",
    "        # Use uv if available\n",
    "        try:\n",
    "            return subprocess.run(\n",
    "                [uv_path] + list(args),\n",
    "                check=True,\n",
    "                capture_output=True,\n",
    "            )\n",
    "        except subprocess.CalledProcessError:\n",
    "            # If uv fails, fall back to pip\n",
    "            print(\"uv command failed, falling back to pip...\")\n",
    "\n",
    "    # Fall back to pip\n",
    "    return subprocess.run(\n",
    "        [sys.executable, \"-m\", \"pip\"] + list(args),\n",
    "        check=True,\n",
    "        capture_output=True,\n",
    "    )"
   ]
  },
  {
   "cell_type": "code",
   "execution_count": null,
   "metadata": {},
   "outputs": [],
   "source": []
  },
  {
   "cell_type": "code",
   "execution_count": 1,
   "metadata": {},
   "outputs": [],
   "source": [
    "from pathlib import Path\n",
    "\n",
    "fp = Path.cwd() / \"data\" / \"pdf\" / \"DeepSeek_R1.pdf\"\n",
    "doc_style = Path.cwd().parent / \"prompts\" / \"doc_style.md\""
   ]
  },
  {
   "cell_type": "code",
   "execution_count": 2,
   "metadata": {},
   "outputs": [],
   "source": [
    "from lionagi import Branch, BaseModel, Field\n",
    "from lionagi.tools.types import ReaderTool\n",
    "\n",
    "flash2 = {\n",
    "    \"provider\": \"gemini\",\n",
    "    \"model\": \"gemini-2.0-flash-exp\",\n",
    "    \"limit_requests\": 10,\n",
    "}\n",
    "\n",
    "flash2_think = {\n",
    "    \"provider\": \"gemini\",\n",
    "    \"model\": \"gemini-2.0-flash-thinking-exp\",\n",
    "    \"limit_requests\": 10,\n",
    "    \"tools\": \"code_execution\",\n",
    "}"
   ]
  },
  {
   "cell_type": "code",
   "execution_count": 3,
   "metadata": {},
   "outputs": [],
   "source": [
    "instruction = (\n",
    "    \"explain to me what the paper is about, compare with other recent papers on same \"\n",
    "    \"discipline and provide a comparison of the results then. Taking inspirations from\"\n",
    "    \" these, write me a complete implementation for a \"\n",
    "    \"LLM-based agentic AI reinforcement learning framework. Must be fully functional\"\n",
    "    \" with python 3.10+ backend, sleek type script frontend, and a docker container, \"\n",
    "    \"with full tests, documented and ready to be deployed. try very hard and deliver\"\n",
    "    \" the best possible implementation.\"\n",
    ")\n",
    "context = {\n",
    "    \"paper_path\": str(fp),\n",
    "    \"doc_style_guide\": str(doc_style),\n",
    "}\n",
    "instruct = {\n",
    "    \"instruction\": instruction,\n",
    "    \"context\": context,\n",
    "}"
   ]
  },
  {
   "cell_type": "code",
   "execution_count": 4,
   "metadata": {},
   "outputs": [
    {
     "name": "stdout",
     "output_type": "stream",
     "text": [
      "uv command failed, falling back to pip...\n"
     ]
    },
    {
     "ename": "ValueError",
     "evalue": "Failed to install docling: Failed to install docling: Command '['/Users/lion/lionagi/.venv/bin/python', '-m', 'pip', 'install', 'docling']' returned non-zero exit status 1.",
     "output_type": "error",
     "traceback": [
      "\u001b[0;31m---------------------------------------------------------------------------\u001b[0m",
      "\u001b[0;31mModuleNotFoundError\u001b[0m                       Traceback (most recent call last)",
      "File \u001b[0;32m~/lionagi/lionagi/libs/package/imports.py:96\u001b[0m, in \u001b[0;36mimport_module\u001b[0;34m(package_name, module_name, import_name)\u001b[0m\n\u001b[1;32m     91\u001b[0m import_name \u001b[38;5;241m=\u001b[39m (\n\u001b[1;32m     92\u001b[0m     [import_name]\n\u001b[1;32m     93\u001b[0m     \u001b[38;5;28;01mif\u001b[39;00m \u001b[38;5;129;01mnot\u001b[39;00m \u001b[38;5;28misinstance\u001b[39m(import_name, \u001b[38;5;28mlist\u001b[39m)\n\u001b[1;32m     94\u001b[0m     \u001b[38;5;28;01melse\u001b[39;00m import_name\n\u001b[1;32m     95\u001b[0m )\n\u001b[0;32m---> 96\u001b[0m a \u001b[38;5;241m=\u001b[39m \u001b[38;5;28;43m__import__\u001b[39;49m\u001b[43m(\u001b[49m\n\u001b[1;32m     97\u001b[0m \u001b[43m    \u001b[49m\u001b[43mfull_import_path\u001b[49m\u001b[43m,\u001b[49m\n\u001b[1;32m     98\u001b[0m \u001b[43m    \u001b[49m\u001b[43mfromlist\u001b[49m\u001b[38;5;241;43m=\u001b[39;49m\u001b[43mimport_name\u001b[49m\u001b[43m,\u001b[49m\n\u001b[1;32m     99\u001b[0m \u001b[43m\u001b[49m\u001b[43m)\u001b[49m\n\u001b[1;32m    100\u001b[0m \u001b[38;5;28;01mif\u001b[39;00m \u001b[38;5;28mlen\u001b[39m(import_name) \u001b[38;5;241m==\u001b[39m \u001b[38;5;241m1\u001b[39m:\n",
      "\u001b[0;31mModuleNotFoundError\u001b[0m: No module named 'docling'",
      "\nThe above exception was the direct cause of the following exception:\n",
      "\u001b[0;31mImportError\u001b[0m                               Traceback (most recent call last)",
      "File \u001b[0;32m~/lionagi/lionagi/libs/package/imports.py:134\u001b[0m, in \u001b[0;36minstall_import\u001b[0;34m(package_name, module_name, import_name, pip_name)\u001b[0m\n\u001b[1;32m    133\u001b[0m \u001b[38;5;28;01mtry\u001b[39;00m:\n\u001b[0;32m--> 134\u001b[0m     \u001b[38;5;28;01mreturn\u001b[39;00m \u001b[43mimport_module\u001b[49m\u001b[43m(\u001b[49m\n\u001b[1;32m    135\u001b[0m \u001b[43m        \u001b[49m\u001b[43mpackage_name\u001b[49m\u001b[38;5;241;43m=\u001b[39;49m\u001b[43mpackage_name\u001b[49m\u001b[43m,\u001b[49m\n\u001b[1;32m    136\u001b[0m \u001b[43m        \u001b[49m\u001b[43mmodule_name\u001b[49m\u001b[38;5;241;43m=\u001b[39;49m\u001b[43mmodule_name\u001b[49m\u001b[43m,\u001b[49m\n\u001b[1;32m    137\u001b[0m \u001b[43m        \u001b[49m\u001b[43mimport_name\u001b[49m\u001b[38;5;241;43m=\u001b[39;49m\u001b[43mimport_name\u001b[49m\u001b[43m,\u001b[49m\n\u001b[1;32m    138\u001b[0m \u001b[43m    \u001b[49m\u001b[43m)\u001b[49m\n\u001b[1;32m    139\u001b[0m \u001b[38;5;28;01mexcept\u001b[39;00m \u001b[38;5;167;01mImportError\u001b[39;00m:\n",
      "File \u001b[0;32m~/lionagi/lionagi/libs/package/imports.py:107\u001b[0m, in \u001b[0;36mimport_module\u001b[0;34m(package_name, module_name, import_name)\u001b[0m\n\u001b[1;32m    106\u001b[0m \u001b[38;5;28;01mexcept\u001b[39;00m \u001b[38;5;167;01mImportError\u001b[39;00m \u001b[38;5;28;01mas\u001b[39;00m e:\n\u001b[0;32m--> 107\u001b[0m     \u001b[38;5;28;01mraise\u001b[39;00m \u001b[38;5;167;01mImportError\u001b[39;00m(\n\u001b[1;32m    108\u001b[0m         \u001b[38;5;124mf\u001b[39m\u001b[38;5;124m\"\u001b[39m\u001b[38;5;124mFailed to import module \u001b[39m\u001b[38;5;132;01m{\u001b[39;00mfull_import_path\u001b[38;5;132;01m}\u001b[39;00m\u001b[38;5;124m: \u001b[39m\u001b[38;5;132;01m{\u001b[39;00me\u001b[38;5;132;01m}\u001b[39;00m\u001b[38;5;124m\"\u001b[39m\n\u001b[1;32m    109\u001b[0m     ) \u001b[38;5;28;01mfrom\u001b[39;00m\u001b[38;5;250m \u001b[39m\u001b[38;5;21;01me\u001b[39;00m\n",
      "\u001b[0;31mImportError\u001b[0m: Failed to import module docling.document_converter: No module named 'docling'",
      "\nDuring handling of the above exception, another exception occurred:\n",
      "\u001b[0;31mCalledProcessError\u001b[0m                        Traceback (most recent call last)",
      "File \u001b[0;32m~/lionagi/lionagi/libs/package/imports.py:142\u001b[0m, in \u001b[0;36minstall_import\u001b[0;34m(package_name, module_name, import_name, pip_name)\u001b[0m\n\u001b[1;32m    141\u001b[0m \u001b[38;5;28;01mtry\u001b[39;00m:\n\u001b[0;32m--> 142\u001b[0m     \u001b[43mrun_package_manager_command\u001b[49m\u001b[43m(\u001b[49m\u001b[43m[\u001b[49m\u001b[38;5;124;43m\"\u001b[39;49m\u001b[38;5;124;43minstall\u001b[39;49m\u001b[38;5;124;43m\"\u001b[39;49m\u001b[43m,\u001b[49m\u001b[43m \u001b[49m\u001b[43mpip_name\u001b[49m\u001b[43m]\u001b[49m\u001b[43m)\u001b[49m\n\u001b[1;32m    143\u001b[0m     \u001b[38;5;28;01mreturn\u001b[39;00m import_module(\n\u001b[1;32m    144\u001b[0m         package_name\u001b[38;5;241m=\u001b[39mpackage_name,\n\u001b[1;32m    145\u001b[0m         module_name\u001b[38;5;241m=\u001b[39mmodule_name,\n\u001b[1;32m    146\u001b[0m         import_name\u001b[38;5;241m=\u001b[39mimport_name,\n\u001b[1;32m    147\u001b[0m     )\n",
      "File \u001b[0;32m~/lionagi/lionagi/utils.py:2387\u001b[0m, in \u001b[0;36mrun_package_manager_command\u001b[0;34m(args)\u001b[0m\n\u001b[1;32m   2386\u001b[0m \u001b[38;5;66;03m# Fall back to pip\u001b[39;00m\n\u001b[0;32m-> 2387\u001b[0m \u001b[38;5;28;01mreturn\u001b[39;00m \u001b[43msubprocess\u001b[49m\u001b[38;5;241;43m.\u001b[39;49m\u001b[43mrun\u001b[49m\u001b[43m(\u001b[49m\n\u001b[1;32m   2388\u001b[0m \u001b[43m    \u001b[49m\u001b[43m[\u001b[49m\u001b[43msys\u001b[49m\u001b[38;5;241;43m.\u001b[39;49m\u001b[43mexecutable\u001b[49m\u001b[43m,\u001b[49m\u001b[43m \u001b[49m\u001b[38;5;124;43m\"\u001b[39;49m\u001b[38;5;124;43m-m\u001b[39;49m\u001b[38;5;124;43m\"\u001b[39;49m\u001b[43m,\u001b[49m\u001b[43m \u001b[49m\u001b[38;5;124;43m\"\u001b[39;49m\u001b[38;5;124;43mpip\u001b[39;49m\u001b[38;5;124;43m\"\u001b[39;49m\u001b[43m]\u001b[49m\u001b[43m \u001b[49m\u001b[38;5;241;43m+\u001b[39;49m\u001b[43m \u001b[49m\u001b[38;5;28;43mlist\u001b[39;49m\u001b[43m(\u001b[49m\u001b[43margs\u001b[49m\u001b[43m)\u001b[49m\u001b[43m,\u001b[49m\n\u001b[1;32m   2389\u001b[0m \u001b[43m    \u001b[49m\u001b[43mcheck\u001b[49m\u001b[38;5;241;43m=\u001b[39;49m\u001b[38;5;28;43;01mTrue\u001b[39;49;00m\u001b[43m,\u001b[49m\n\u001b[1;32m   2390\u001b[0m \u001b[43m    \u001b[49m\u001b[43mcapture_output\u001b[49m\u001b[38;5;241;43m=\u001b[39;49m\u001b[38;5;28;43;01mTrue\u001b[39;49;00m\u001b[43m,\u001b[49m\n\u001b[1;32m   2391\u001b[0m \u001b[43m\u001b[49m\u001b[43m)\u001b[49m\n",
      "File \u001b[0;32m/opt/homebrew/Cellar/python@3.10/3.10.16/Frameworks/Python.framework/Versions/3.10/lib/python3.10/subprocess.py:526\u001b[0m, in \u001b[0;36mrun\u001b[0;34m(input, capture_output, timeout, check, *popenargs, **kwargs)\u001b[0m\n\u001b[1;32m    525\u001b[0m     \u001b[38;5;28;01mif\u001b[39;00m check \u001b[38;5;129;01mand\u001b[39;00m retcode:\n\u001b[0;32m--> 526\u001b[0m         \u001b[38;5;28;01mraise\u001b[39;00m CalledProcessError(retcode, process\u001b[38;5;241m.\u001b[39margs,\n\u001b[1;32m    527\u001b[0m                                  output\u001b[38;5;241m=\u001b[39mstdout, stderr\u001b[38;5;241m=\u001b[39mstderr)\n\u001b[1;32m    528\u001b[0m \u001b[38;5;28;01mreturn\u001b[39;00m CompletedProcess(process\u001b[38;5;241m.\u001b[39margs, retcode, stdout, stderr)\n",
      "\u001b[0;31mCalledProcessError\u001b[0m: Command '['/Users/lion/lionagi/.venv/bin/python', '-m', 'pip', 'install', 'docling']' returned non-zero exit status 1.",
      "\nThe above exception was the direct cause of the following exception:\n",
      "\u001b[0;31mImportError\u001b[0m                               Traceback (most recent call last)",
      "File \u001b[0;32m~/lionagi/lionagi/libs/package/imports.py:43\u001b[0m, in \u001b[0;36mcheck_import\u001b[0;34m(package_name, module_name, import_name, pip_name, attempt_install, error_message)\u001b[0m\n\u001b[1;32m     42\u001b[0m \u001b[38;5;28;01mtry\u001b[39;00m:\n\u001b[0;32m---> 43\u001b[0m     \u001b[38;5;28;01mreturn\u001b[39;00m \u001b[43minstall_import\u001b[49m\u001b[43m(\u001b[49m\n\u001b[1;32m     44\u001b[0m \u001b[43m        \u001b[49m\u001b[43mpackage_name\u001b[49m\u001b[38;5;241;43m=\u001b[39;49m\u001b[43mpackage_name\u001b[49m\u001b[43m,\u001b[49m\n\u001b[1;32m     45\u001b[0m \u001b[43m        \u001b[49m\u001b[43mmodule_name\u001b[49m\u001b[38;5;241;43m=\u001b[39;49m\u001b[43mmodule_name\u001b[49m\u001b[43m,\u001b[49m\n\u001b[1;32m     46\u001b[0m \u001b[43m        \u001b[49m\u001b[43mimport_name\u001b[49m\u001b[38;5;241;43m=\u001b[39;49m\u001b[43mimport_name\u001b[49m\u001b[43m,\u001b[49m\n\u001b[1;32m     47\u001b[0m \u001b[43m        \u001b[49m\u001b[43mpip_name\u001b[49m\u001b[38;5;241;43m=\u001b[39;49m\u001b[43mpip_name\u001b[49m\u001b[43m,\u001b[49m\n\u001b[1;32m     48\u001b[0m \u001b[43m    \u001b[49m\u001b[43m)\u001b[49m\n\u001b[1;32m     49\u001b[0m \u001b[38;5;28;01mexcept\u001b[39;00m \u001b[38;5;167;01mImportError\u001b[39;00m \u001b[38;5;28;01mas\u001b[39;00m e:\n",
      "File \u001b[0;32m~/lionagi/lionagi/libs/package/imports.py:149\u001b[0m, in \u001b[0;36minstall_import\u001b[0;34m(package_name, module_name, import_name, pip_name)\u001b[0m\n\u001b[1;32m    148\u001b[0m \u001b[38;5;28;01mexcept\u001b[39;00m subprocess\u001b[38;5;241m.\u001b[39mCalledProcessError \u001b[38;5;28;01mas\u001b[39;00m e:\n\u001b[0;32m--> 149\u001b[0m     \u001b[38;5;28;01mraise\u001b[39;00m \u001b[38;5;167;01mImportError\u001b[39;00m(\u001b[38;5;124mf\u001b[39m\u001b[38;5;124m\"\u001b[39m\u001b[38;5;124mFailed to install \u001b[39m\u001b[38;5;132;01m{\u001b[39;00mpip_name\u001b[38;5;132;01m}\u001b[39;00m\u001b[38;5;124m: \u001b[39m\u001b[38;5;132;01m{\u001b[39;00me\u001b[38;5;132;01m}\u001b[39;00m\u001b[38;5;124m\"\u001b[39m) \u001b[38;5;28;01mfrom\u001b[39;00m\u001b[38;5;250m \u001b[39m\u001b[38;5;21;01me\u001b[39;00m\n\u001b[1;32m    150\u001b[0m \u001b[38;5;28;01mexcept\u001b[39;00m \u001b[38;5;167;01mImportError\u001b[39;00m \u001b[38;5;28;01mas\u001b[39;00m e:\n",
      "\u001b[0;31mImportError\u001b[0m: Failed to install docling: Command '['/Users/lion/lionagi/.venv/bin/python', '-m', 'pip', 'install', 'docling']' returned non-zero exit status 1.",
      "\nThe above exception was the direct cause of the following exception:\n",
      "\u001b[0;31mValueError\u001b[0m                                Traceback (most recent call last)",
      "Cell \u001b[0;32mIn[4], line 1\u001b[0m\n\u001b[0;32m----> 1\u001b[0m a \u001b[38;5;241m=\u001b[39m \u001b[43mBranch\u001b[49m\u001b[43m(\u001b[49m\n\u001b[1;32m      2\u001b[0m \u001b[43m    \u001b[49m\u001b[43mchat_model\u001b[49m\u001b[38;5;241;43m=\u001b[39;49m\u001b[43mflash2_think\u001b[49m\u001b[43m,\u001b[49m\n\u001b[1;32m      3\u001b[0m \u001b[43m    \u001b[49m\u001b[43mparse_model\u001b[49m\u001b[38;5;241;43m=\u001b[39;49m\u001b[43mflash2\u001b[49m\u001b[43m,\u001b[49m\n\u001b[1;32m      4\u001b[0m \u001b[43m    \u001b[49m\u001b[43mtools\u001b[49m\u001b[38;5;241;43m=\u001b[39;49m\u001b[43mReaderTool\u001b[49m\u001b[43m,\u001b[49m\n\u001b[1;32m      5\u001b[0m \u001b[43m    \u001b[49m\u001b[43muse_lion_system_message\u001b[49m\u001b[38;5;241;43m=\u001b[39;49m\u001b[38;5;28;43;01mTrue\u001b[39;49;00m\n\u001b[1;32m      6\u001b[0m \u001b[43m)\u001b[49m\n",
      "File \u001b[0;32m~/lionagi/lionagi/session/branch.py:230\u001b[0m, in \u001b[0;36mBranch.__init__\u001b[0;34m(self, user, name, messages, system, system_sender, chat_model, parse_model, imodel, tools, log_config, system_datetime, system_template, system_template_context, logs, use_lion_system_message, **kwargs)\u001b[0m\n\u001b[1;32m    228\u001b[0m \u001b[38;5;28mself\u001b[39m\u001b[38;5;241m.\u001b[39m_action_manager \u001b[38;5;241m=\u001b[39m ActionManager()\n\u001b[1;32m    229\u001b[0m \u001b[38;5;28;01mif\u001b[39;00m tools:\n\u001b[0;32m--> 230\u001b[0m     \u001b[38;5;28;43mself\u001b[39;49m\u001b[38;5;241;43m.\u001b[39;49m\u001b[43mregister_tools\u001b[49m\u001b[43m(\u001b[49m\u001b[43mtools\u001b[49m\u001b[43m)\u001b[49m\n\u001b[1;32m    232\u001b[0m \u001b[38;5;66;03m# --- LogManager ---\u001b[39;00m\n\u001b[1;32m    233\u001b[0m \u001b[38;5;28;01mif\u001b[39;00m log_config:\n",
      "File \u001b[0;32m~/lionagi/lionagi/session/branch.py:392\u001b[0m, in \u001b[0;36mBranch.register_tools\u001b[0;34m(self, tools, update)\u001b[0m\n\u001b[1;32m    390\u001b[0m tools \u001b[38;5;241m=\u001b[39m [tools] \u001b[38;5;28;01mif\u001b[39;00m \u001b[38;5;129;01mnot\u001b[39;00m \u001b[38;5;28misinstance\u001b[39m(tools, \u001b[38;5;28mlist\u001b[39m) \u001b[38;5;28;01melse\u001b[39;00m tools\n\u001b[1;32m    391\u001b[0m \u001b[38;5;28;01mfor\u001b[39;00m tool \u001b[38;5;129;01min\u001b[39;00m tools:\n\u001b[0;32m--> 392\u001b[0m     \u001b[38;5;28;43mself\u001b[39;49m\u001b[38;5;241;43m.\u001b[39;49m\u001b[43m_register_tool\u001b[49m\u001b[43m(\u001b[49m\u001b[43mtool\u001b[49m\u001b[43m,\u001b[49m\u001b[43m \u001b[49m\u001b[43mupdate\u001b[49m\u001b[38;5;241;43m=\u001b[39;49m\u001b[43mupdate\u001b[49m\u001b[43m)\u001b[49m\n",
      "File \u001b[0;32m~/lionagi/lionagi/session/branch.py:373\u001b[0m, in \u001b[0;36mBranch._register_tool\u001b[0;34m(self, tools, update)\u001b[0m\n\u001b[1;32m    371\u001b[0m \u001b[38;5;28;01mdef\u001b[39;00m\u001b[38;5;250m \u001b[39m\u001b[38;5;21m_register_tool\u001b[39m(\u001b[38;5;28mself\u001b[39m, tools: FuncTool \u001b[38;5;241m|\u001b[39m LionTool, update: \u001b[38;5;28mbool\u001b[39m \u001b[38;5;241m=\u001b[39m \u001b[38;5;28;01mFalse\u001b[39;00m):\n\u001b[1;32m    372\u001b[0m     \u001b[38;5;28;01mif\u001b[39;00m \u001b[38;5;28misinstance\u001b[39m(tools, \u001b[38;5;28mtype\u001b[39m) \u001b[38;5;129;01mand\u001b[39;00m \u001b[38;5;28missubclass\u001b[39m(tools, LionTool):\n\u001b[0;32m--> 373\u001b[0m         tools \u001b[38;5;241m=\u001b[39m \u001b[43mtools\u001b[49m\u001b[43m(\u001b[49m\u001b[43m)\u001b[49m\n\u001b[1;32m    374\u001b[0m     \u001b[38;5;28;01mif\u001b[39;00m \u001b[38;5;28misinstance\u001b[39m(tools, LionTool):\n\u001b[1;32m    375\u001b[0m         tools \u001b[38;5;241m=\u001b[39m tools\u001b[38;5;241m.\u001b[39mto_tool()\n",
      "File \u001b[0;32m~/lionagi/lionagi/tools/file/reader.py:178\u001b[0m, in \u001b[0;36mReaderTool.__init__\u001b[0;34m(self)\u001b[0m\n\u001b[1;32m    175\u001b[0m \u001b[38;5;28;01mdef\u001b[39;00m\u001b[38;5;250m \u001b[39m\u001b[38;5;21m__init__\u001b[39m(\u001b[38;5;28mself\u001b[39m):\n\u001b[1;32m    176\u001b[0m     \u001b[38;5;28;01mfrom\u001b[39;00m\u001b[38;5;250m \u001b[39m\u001b[38;5;21;01mlionagi\u001b[39;00m\u001b[38;5;21;01m.\u001b[39;00m\u001b[38;5;21;01mlibs\u001b[39;00m\u001b[38;5;21;01m.\u001b[39;00m\u001b[38;5;21;01mpackage\u001b[39;00m\u001b[38;5;21;01m.\u001b[39;00m\u001b[38;5;21;01mimports\u001b[39;00m\u001b[38;5;250m \u001b[39m\u001b[38;5;28;01mimport\u001b[39;00m check_import\n\u001b[0;32m--> 178\u001b[0m     DocumentConverter \u001b[38;5;241m=\u001b[39m \u001b[43mcheck_import\u001b[49m\u001b[43m(\u001b[49m\n\u001b[1;32m    179\u001b[0m \u001b[43m        \u001b[49m\u001b[38;5;124;43m\"\u001b[39;49m\u001b[38;5;124;43mdocling\u001b[39;49m\u001b[38;5;124;43m\"\u001b[39;49m\u001b[43m,\u001b[49m\n\u001b[1;32m    180\u001b[0m \u001b[43m        \u001b[49m\u001b[43mmodule_name\u001b[49m\u001b[38;5;241;43m=\u001b[39;49m\u001b[38;5;124;43m\"\u001b[39;49m\u001b[38;5;124;43mdocument_converter\u001b[39;49m\u001b[38;5;124;43m\"\u001b[39;49m\u001b[43m,\u001b[49m\n\u001b[1;32m    181\u001b[0m \u001b[43m        \u001b[49m\u001b[43mimport_name\u001b[49m\u001b[38;5;241;43m=\u001b[39;49m\u001b[38;5;124;43m\"\u001b[39;49m\u001b[38;5;124;43mDocumentConverter\u001b[39;49m\u001b[38;5;124;43m\"\u001b[39;49m\u001b[43m,\u001b[49m\n\u001b[1;32m    182\u001b[0m \u001b[43m    \u001b[49m\u001b[43m)\u001b[49m\n\u001b[1;32m    184\u001b[0m     \u001b[38;5;28msuper\u001b[39m()\u001b[38;5;241m.\u001b[39m\u001b[38;5;21m__init__\u001b[39m()\n\u001b[1;32m    185\u001b[0m     \u001b[38;5;28mself\u001b[39m\u001b[38;5;241m.\u001b[39mconverter \u001b[38;5;241m=\u001b[39m DocumentConverter()\n",
      "File \u001b[0;32m~/lionagi/lionagi/libs/package/imports.py:50\u001b[0m, in \u001b[0;36mcheck_import\u001b[0;34m(package_name, module_name, import_name, pip_name, attempt_install, error_message)\u001b[0m\n\u001b[1;32m     43\u001b[0m         \u001b[38;5;28;01mreturn\u001b[39;00m install_import(\n\u001b[1;32m     44\u001b[0m             package_name\u001b[38;5;241m=\u001b[39mpackage_name,\n\u001b[1;32m     45\u001b[0m             module_name\u001b[38;5;241m=\u001b[39mmodule_name,\n\u001b[1;32m     46\u001b[0m             import_name\u001b[38;5;241m=\u001b[39mimport_name,\n\u001b[1;32m     47\u001b[0m             pip_name\u001b[38;5;241m=\u001b[39mpip_name,\n\u001b[1;32m     48\u001b[0m         )\n\u001b[1;32m     49\u001b[0m     \u001b[38;5;28;01mexcept\u001b[39;00m \u001b[38;5;167;01mImportError\u001b[39;00m \u001b[38;5;28;01mas\u001b[39;00m e:\n\u001b[0;32m---> 50\u001b[0m         \u001b[38;5;28;01mraise\u001b[39;00m \u001b[38;5;167;01mValueError\u001b[39;00m(\n\u001b[1;32m     51\u001b[0m             \u001b[38;5;124mf\u001b[39m\u001b[38;5;124m\"\u001b[39m\u001b[38;5;124mFailed to install \u001b[39m\u001b[38;5;132;01m{\u001b[39;00mpackage_name\u001b[38;5;132;01m}\u001b[39;00m\u001b[38;5;124m: \u001b[39m\u001b[38;5;132;01m{\u001b[39;00me\u001b[38;5;132;01m}\u001b[39;00m\u001b[38;5;124m\"\u001b[39m\n\u001b[1;32m     52\u001b[0m         ) \u001b[38;5;28;01mfrom\u001b[39;00m\u001b[38;5;250m \u001b[39m\u001b[38;5;21;01me\u001b[39;00m\n\u001b[1;32m     53\u001b[0m \u001b[38;5;28;01melse\u001b[39;00m:\n\u001b[1;32m     54\u001b[0m     logging\u001b[38;5;241m.\u001b[39minfo(\n\u001b[1;32m     55\u001b[0m         \u001b[38;5;124mf\u001b[39m\u001b[38;5;124m\"\u001b[39m\u001b[38;5;124mPackage \u001b[39m\u001b[38;5;132;01m{\u001b[39;00mpackage_name\u001b[38;5;132;01m}\u001b[39;00m\u001b[38;5;124m not found. \u001b[39m\u001b[38;5;132;01m{\u001b[39;00merror_message\u001b[38;5;132;01m}\u001b[39;00m\u001b[38;5;124m\"\u001b[39m,\n\u001b[1;32m     56\u001b[0m     )\n",
      "\u001b[0;31mValueError\u001b[0m: Failed to install docling: Failed to install docling: Command '['/Users/lion/lionagi/.venv/bin/python', '-m', 'pip', 'install', 'docling']' returned non-zero exit status 1."
     ]
    }
   ],
   "source": [
    "a = Branch(\n",
    "    chat_model=flash2_think,\n",
    "    parse_model=flash2,\n",
    "    tools=ReaderTool,\n",
    "    use_lion_system_message=True,\n",
    ")"
   ]
  },
  {
   "cell_type": "code",
   "execution_count": null,
   "metadata": {},
   "outputs": [],
   "source": [
    "class Source(BaseModel):\n",
    "    title: str\n",
    "    url: str\n",
    "\n",
    "\n",
    "class CodeModule(BaseModel):\n",
    "    file_name: str = Field(\n",
    "        description=\"The name of the file, possibly also and its relevant path if in a project.\"\n",
    "    )\n",
    "    code: str = Field(description=\"The code module content.\")\n",
    "    language: str = Field(\n",
    "        description=\"The programming language the code is written in.\"\n",
    "    )\n",
    "\n",
    "\n",
    "class Documentation(BaseModel):\n",
    "    file_name: str = Field(\n",
    "        description=\"The name of the file, possibly also and its relevant path if in a project. documentations are usually in markdown format.\"\n",
    "    )\n",
    "    kind: str = Field(\n",
    "        description=\"The kind of documentation, e.g. tutorial, API documentation, end-to-end, etc.\"\n",
    "    )\n",
    "    title: str = Field(\n",
    "        default_factory=str, description=\"The title of the documentation.\"\n",
    "    )\n",
    "    content: str = Field(\n",
    "        default_factory=str, description=\"The content of the documentation.\"\n",
    "    )\n",
    "    source: list[Source] | None = Field(\n",
    "        default=None,\n",
    "        description=\"The external sources of the documentation, such as website or paper, if any.\",\n",
    "    )\n",
    "\n",
    "\n",
    "class FinalDeliverables(BaseModel):\n",
    "\n",
    "    reflections: list[str] | str | None = Field(\n",
    "        default=None, description=\"The reflections of the self evaluation\"\n",
    "    )\n",
    "    milestones: list[str] | str | None = Field(\n",
    "        default=None, description=\"The milestones of the self evaluation.\"\n",
    "    )\n",
    "    codes: list[CodeModule] | None = Field(\n",
    "        default=None,\n",
    "        description=\"The remaining code modules not yet provided.\",\n",
    "    )\n",
    "    docs: list[Documentation] | None = Field(\n",
    "        default=None,\n",
    "        description=\"The remaining documentation not yet provided.\",\n",
    "    )\n",
    "    source: list[Source] | None = Field(\n",
    "        default=None,\n",
    "        description=\"The external sources of the self evaluation, such as website or paper, if any.\",\n",
    "    )\n",
    "\n",
    "\n",
    "intermediate_deliverables = [\n",
    "    Documentation,\n",
    "    CodeModule,\n",
    "]"
   ]
  },
  {
   "cell_type": "code",
   "execution_count": null,
   "metadata": {},
   "outputs": [],
   "source": [
    "results = []\n",
    "\n",
    "async for i in a.ReActStream(\n",
    "    instruct=instruct,\n",
    "    interpret=True,\n",
    "    interpret_style=\"exhaustively detailed\",\n",
    "    interpret_domain=\"AI\",\n",
    "    reasoning_effort=\"high\",\n",
    "    max_extensions=20,\n",
    "    verbose=True,\n",
    "    response_format=FinalDeliverables,\n",
    "    intermediate_response_options=intermediate_deliverables,\n",
    "):\n",
    "    results.append(i)"
   ]
  }
 ],
 "metadata": {
  "kernelspec": {
   "display_name": ".venv",
   "language": "python",
   "name": "python3"
  },
  "language_info": {
   "codemirror_mode": {
    "name": "ipython",
    "version": 3
   },
   "file_extension": ".py",
   "mimetype": "text/x-python",
   "name": "python",
   "nbconvert_exporter": "python",
   "pygments_lexer": "ipython3",
   "version": "3.10.16"
  }
 },
 "nbformat": 4,
 "nbformat_minor": 2
}
