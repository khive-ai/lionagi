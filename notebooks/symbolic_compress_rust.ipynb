{
 "cells": [
  {
   "cell_type": "code",
   "execution_count": null,
   "metadata": {},
   "outputs": [],
   "source": [
    "# find a repo of your choice, source data can be found at https://github.com/ohdearquant/liongate\n",
    "\n",
    "dir = \"/Users/lion/github/lion/\"\n",
    "crates = [\"lion\"]\n",
    "output_path = \"data/lion\"\n",
    "prefix = \"whole\"\n",
    "postfix = \"source_codes\""
   ]
  },
  {
   "cell_type": "code",
   "execution_count": 2,
   "metadata": {},
   "outputs": [],
   "source": [
    "data_path = [dir + j for j in crates]\n",
    "file_types = [\".rs\"]"
   ]
  },
  {
   "cell_type": "code",
   "execution_count": 3,
   "metadata": {},
   "outputs": [
    {
     "name": "stdout",
     "output_type": "stream",
     "text": [
      "Concatenated 160 files to data/lion/whole_20250302_source_codes.txt\n",
      "The file contains 1590143 characters.\n"
     ]
    }
   ],
   "source": [
    "from lionagi.libs.file.concat_files import concat_files\n",
    "from datetime import datetime\n",
    "\n",
    "filename = f\"{prefix}_{datetime.now().strftime('%Y%m%d')}_{postfix}.txt\"\n",
    "\n",
    "texts, fps = concat_files(\n",
    "    data_path=data_path,\n",
    "    file_types=file_types,\n",
    "    output_dir=output_path,\n",
    "    output_filename=filename,\n",
    "    return_fps=True,\n",
    "    return_files=True,\n",
    ")"
   ]
  },
  {
   "cell_type": "code",
   "execution_count": 4,
   "metadata": {},
   "outputs": [
    {
     "name": "stdout",
     "output_type": "stream",
     "text": [
      "Concatenated files saved to data/lion/lion_directory.txt\n"
     ]
    }
   ],
   "source": [
    "from pathlib import Path\n",
    "\n",
    "\n",
    "path = Path(output_path) / \"lion_directory.txt\"\n",
    "\n",
    "fpss = []\n",
    "for i in fps:\n",
    "    fpss.append(str(i).replace(dir, \"\"))\n",
    "fpss = sorted(fpss)\n",
    "\n",
    "_text = \"\\n\".join(fpss)\n",
    "path.write_text(_text)\n",
    "print(f\"Concatenated files saved to {path}\")"
   ]
  },
  {
   "cell_type": "code",
   "execution_count": 5,
   "metadata": {},
   "outputs": [],
   "source": [
    "from pathlib import Path\n",
    "from lionagi import iModel\n",
    "\n",
    "chat_model = iModel(model=\"openrouter/google/gemini-2.0-flash-001\", temperature=0.5)\n",
    "\n",
    "fp = Path.cwd() / \"data\" / \"lion\" / filename\n",
    "compressed_fp = Path.cwd() / \"data\" / \"lion\" / f\"compressed_{filename}\"\n",
    "compressed_fp_2 = Path.cwd() / \"data\" / \"lion\" / f\"compressed^2_{filename}\""
   ]
  },
  {
   "cell_type": "code",
   "execution_count": 6,
   "metadata": {},
   "outputs": [],
   "source": [
    "from timeit import default_timer as timer\n",
    "\n",
    "from lionagi.libs.token_transform.types import (\n",
    "    symbolic_compress_context,\n",
    "    TokenMappingTemplate,\n",
    ")"
   ]
  },
  {
   "cell_type": "code",
   "execution_count": 7,
   "metadata": {},
   "outputs": [],
   "source": [
    "start = timer();"
   ]
  },
  {
   "cell_type": "code",
   "execution_count": 8,
   "metadata": {},
   "outputs": [],
   "source": [
    "output_fp = await symbolic_compress_context(\n",
    "    chat_model=chat_model,\n",
    "    url_or_path=fp,\n",
    "    encode_token_map=TokenMappingTemplate.RUST_CHINESE,\n",
    "    encode_output=True,\n",
    "    max_concurrent=10,\n",
    "    throttle_period=0.5,\n",
    "    output_path=compressed_fp,\n",
    "    verbose=False,\n",
    ");"
   ]
  },
  {
   "cell_type": "code",
   "execution_count": 9,
   "metadata": {},
   "outputs": [
    {
     "name": "stdout",
     "output_type": "stream",
     "text": [
      "Compressed file saved to: /Users/lion/github/lion/dev/data/lion/compressed_whole_20250302_source_codes.txt\n",
      "Compressed character number: 481175\n",
      "First Compression Time taken: 186.29 seconds\n"
     ]
    }
   ],
   "source": [
    "print(f\"Compressed file saved to: {output_fp}\")\n",
    "print(f\"Compressed character number: {len(Path(output_fp).read_text())}\")\n",
    "print(f\"First Compression Time taken: {timer() - start:.2f} seconds\")"
   ]
  },
  {
   "cell_type": "code",
   "execution_count": 10,
   "metadata": {},
   "outputs": [],
   "source": [
    "output_fp_2 = await symbolic_compress_context(\n",
    "    chat_model=chat_model,\n",
    "    url_or_path=compressed_fp,\n",
    "    encode_token_map=TokenMappingTemplate.RUST_CHINESE,\n",
    "    encode_output=True,\n",
    "    max_concurrent=10,\n",
    "    throttle_period=0.5,\n",
    "    output_path=compressed_fp_2,\n",
    "    verbose=False,\n",
    ");"
   ]
  },
  {
   "cell_type": "code",
   "execution_count": 11,
   "metadata": {},
   "outputs": [
    {
     "name": "stdout",
     "output_type": "stream",
     "text": [
      "Compressed file saved to: /Users/lion/github/lion/dev/data/lion/compressed^2_whole_20250302_source_codes.txt\n",
      "Compressed character number: 159389\n",
      "Total Time taken: 252.97 seconds\n",
      "Compression ratio: 10.02%\n"
     ]
    }
   ],
   "source": [
    "len_chars = len(Path(output_fp_2).read_text())\n",
    "print(f\"Compressed file saved to: {output_fp_2}\")\n",
    "print(f\"Compressed character number: {len_chars}\")\n",
    "print(f\"Total Time taken: {timer() - start:.2f} seconds\")\n",
    "print(f\"Compression ratio: {len_chars / len(Path(fp).read_text()):.2%}\")"
   ]
  }
 ],
 "metadata": {
  "kernelspec": {
   "display_name": ".venv",
   "language": "python",
   "name": "python3"
  },
  "language_info": {
   "codemirror_mode": {
    "name": "ipython",
    "version": 3
   },
   "file_extension": ".py",
   "mimetype": "text/x-python",
   "name": "python",
   "nbconvert_exporter": "python",
   "pygments_lexer": "ipython3",
   "version": "3.12.8"
  }
 },
 "nbformat": 4,
 "nbformat_minor": 2
}
