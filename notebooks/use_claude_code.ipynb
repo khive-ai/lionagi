{
 "cells": [
  {
   "cell_type": "markdown",
   "metadata": {},
   "source": [
    "# Using Claude Code Provider\n",
    "\n",
    "This notebook demonstrates how to use the Claude Code provider with lionagi."
   ]
  },
  {
   "cell_type": "code",
   "execution_count": null,
   "metadata": {},
   "outputs": [],
   "source": [
    "import os\n",
    "from lionagi.service.connections.match_endpoint import match_endpoint\n",
    "from lionagi.service.connections.api_calling import APICalling"
   ]
  },
  {
   "cell_type": "markdown",
   "metadata": {},
   "source": [
    "## Setup\n",
    "\n",
    "Make sure you have:\n",
    "1. Installed Claude Code SDK: `uv sync --extra claude-code`\n",
    "2. Set your ANTHROPIC_API_KEY environment variable\n",
    "3. Installed Claude Code CLI: `npm install -g @anthropic-ai/claude-code`"
   ]
  },
  {
   "cell_type": "code",
   "execution_count": null,
   "metadata": {},
   "outputs": [],
   "source": [
    "# Set API key if not already set\n",
    "# os.environ['ANTHROPIC_API_KEY'] = 'your-api-key-here'"
   ]
  },
  {
   "cell_type": "markdown",
   "metadata": {},
   "source": [
    "## Using Claude Code Endpoint"
   ]
  },
  {
   "cell_type": "code",
   "execution_count": null,
   "metadata": {},
   "outputs": [],
   "source": [
    "# Create Claude Code endpoint\n",
    "endpoint = match_endpoint(provider=\"claude_code\", endpoint=\"query\")\n",
    "\n",
    "# Verify endpoint was created\n",
    "print(f\"Endpoint: {endpoint}\")\n",
    "print(f\"Provider: {endpoint.config.provider}\")\n",
    "print(f\"Name: {endpoint.config.name}\")"
   ]
  },
  {
   "cell_type": "markdown",
   "metadata": {},
   "source": [
    "## Simple Query Example"
   ]
  },
  {
   "cell_type": "code",
   "execution_count": null,
   "metadata": {},
   "outputs": [],
   "source": [
    "# Create a simple request\n",
    "request = {\"prompt\": \"Write a haiku about Python programming\", \"max_turns\": 1}\n",
    "\n",
    "# Create API calling event\n",
    "api_call = APICalling(endpoint=endpoint, payload=request)\n",
    "\n",
    "# Execute the call\n",
    "await api_call.invoke()\n",
    "\n",
    "# Print the result\n",
    "if api_call.completion_status == \"completed\":\n",
    "    print(\"Messages:\")\n",
    "    for msg in api_call.response.get(\"messages\", []):\n",
    "        print(f\"- {msg}\")\n",
    "else:\n",
    "    print(f\"Error: {api_call.error}\")"
   ]
  },
  {
   "cell_type": "markdown",
   "metadata": {},
   "source": [
    "## Advanced Example with Options"
   ]
  },
  {
   "cell_type": "code",
   "execution_count": null,
   "metadata": {},
   "outputs": [],
   "source": [
    "# Create a more complex request with options\n",
    "advanced_request = {\n",
    "    \"prompt\": \"Create a simple Python function to calculate fibonacci numbers with memoization\",\n",
    "    \"max_turns\": 3,\n",
    "    \"system_prompt\": \"You are a helpful Python programming assistant. Focus on clean, efficient code.\",\n",
    "    \"cwd\": os.getcwd(),  # Set current working directory\n",
    "    \"allowed_tools\": [\"write\", \"read\"],  # Limit tools Claude Code can use\n",
    "    \"permission_mode\": \"ask\",  # Ask before making edits\n",
    "}\n",
    "\n",
    "# Create and execute API call\n",
    "api_call = APICalling(endpoint=endpoint, payload=advanced_request)\n",
    "await api_call.invoke()\n",
    "\n",
    "# Display results\n",
    "if api_call.completion_status == \"completed\":\n",
    "    print(\"Claude Code Response:\")\n",
    "    messages = api_call.response.get(\"messages\", [])\n",
    "    for i, msg in enumerate(messages):\n",
    "        print(f\"\\nMessage {i+1}:\")\n",
    "        print(msg)\n",
    "else:\n",
    "    print(f\"Error: {api_call.error}\")"
   ]
  },
  {
   "cell_type": "markdown",
   "metadata": {},
   "source": [
    "## Integration with lionagi Session"
   ]
  },
  {
   "cell_type": "code",
   "execution_count": null,
   "metadata": {},
   "outputs": [],
   "source": [
    "from lionagi.session import Session\n",
    "\n",
    "# Create a session with Claude Code provider\n",
    "session = Session()\n",
    "\n",
    "# Configure to use Claude Code\n",
    "imodel_config = {\n",
    "    \"provider\": \"claude_code\",\n",
    "    \"endpoint\": \"query\",\n",
    "}\n",
    "\n",
    "# Example of using in a session context\n",
    "# Note: This would require additional integration work in the Session class\n",
    "# to properly handle Claude Code's response format"
   ]
  },
  {
   "cell_type": "markdown",
   "metadata": {},
   "source": [
    "## Notes\n",
    "\n",
    "- Claude Code SDK runs asynchronously and returns multiple messages\n",
    "- Token usage is not provided by Claude Code SDK\n",
    "- Make sure you have Node.js installed for the Claude Code CLI\n",
    "- The SDK requires Python 3.10+\n",
    "- For production use, ensure proper error handling and logging"
   ]
  }
 ],
 "metadata": {
  "kernelspec": {
   "display_name": "Python 3",
   "language": "python",
   "name": "python3"
  },
  "language_info": {
   "codemirror_mode": {
    "name": "ipython",
    "version": 3
   },
   "file_extension": ".py",
   "mimetype": "text/x-python",
   "name": "python",
   "nbconvert_exporter": "python",
   "pygments_lexer": "ipython3",
   "version": "3.10.0"
  }
 },
 "nbformat": 4,
 "nbformat_minor": 4
}