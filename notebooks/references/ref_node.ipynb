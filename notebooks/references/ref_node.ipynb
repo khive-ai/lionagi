{
 "cells": [
  {
   "cell_type": "code",
   "execution_count": 1,
   "metadata": {},
   "outputs": [],
   "source": [
    "from lionagi.os.collections.node.node import Node"
   ]
  },
  {
   "cell_type": "code",
   "execution_count": 2,
   "metadata": {},
   "outputs": [],
   "source": [
    "# create 10 nodes\n",
    "a, b, c = Node(), Node(), Node()"
   ]
  },
  {
   "cell_type": "code",
   "execution_count": 3,
   "metadata": {},
   "outputs": [],
   "source": [
    "a.relate(b, \"out\")  # outgoing relation, a is head\n",
    "a.relate(c, \"in\")  # incoming relation, a is tail"
   ]
  },
  {
   "cell_type": "code",
   "execution_count": 4,
   "metadata": {},
   "outputs": [
    {
     "data": {
      "text/plain": [
       "['5240ac55a41124275ad07624746e96fa']"
      ]
     },
     "execution_count": 4,
     "metadata": {},
     "output_type": "execute_result"
    }
   ],
   "source": [
    "a.predecessors"
   ]
  },
  {
   "cell_type": "code",
   "execution_count": 5,
   "metadata": {},
   "outputs": [
    {
     "data": {
      "text/plain": [
       "['bbebb6af3efd4e0d5ea31c4c55f8c109']"
      ]
     },
     "execution_count": 5,
     "metadata": {},
     "output_type": "execute_result"
    }
   ],
   "source": [
    "a.successors"
   ]
  },
  {
   "cell_type": "code",
   "execution_count": 6,
   "metadata": {},
   "outputs": [
    {
     "name": "stdout",
     "output_type": "stream",
     "text": [
      "ln_id         04eab1dc3e5b23e638d222d4fa9991b4\n",
      "created             2024-05-28T22:21:20.631450\n",
      "metadata                                    {}\n",
      "content                                   None\n",
      "embedding                                   []\n",
      "head          5240ac55a41124275ad07624746e96fa\n",
      "tail          8b6362dd3dda7b0995ae4a3f6cc363e3\n",
      "condition                                 None\n",
      "label                                     None\n",
      "bundle                                   False\n",
      "lion_class                                Edge\n",
      "dtype: object\n",
      "ln_id         65766c94716374f3cb7d1fb3a88d1ddd\n",
      "created             2024-05-28T22:21:20.631167\n",
      "metadata                                    {}\n",
      "content                                   None\n",
      "embedding                                   []\n",
      "head          8b6362dd3dda7b0995ae4a3f6cc363e3\n",
      "tail          bbebb6af3efd4e0d5ea31c4c55f8c109\n",
      "condition                                 None\n",
      "label                                     None\n",
      "bundle                                   False\n",
      "lion_class                                Edge\n",
      "dtype: object\n"
     ]
    }
   ],
   "source": [
    "for i in a.edges:\n",
    "    print(i)"
   ]
  },
  {
   "cell_type": "code",
   "execution_count": 7,
   "metadata": {},
   "outputs": [
    {
     "data": {
      "text/plain": [
       "['5240ac55a41124275ad07624746e96fa', 'bbebb6af3efd4e0d5ea31c4c55f8c109']"
      ]
     },
     "execution_count": 7,
     "metadata": {},
     "output_type": "execute_result"
    }
   ],
   "source": [
    "a.related_nodes"
   ]
  },
  {
   "cell_type": "code",
   "execution_count": 8,
   "metadata": {},
   "outputs": [
    {
     "data": {
      "text/plain": [
       "{'out': {'bbebb6af3efd4e0d5ea31c4c55f8c109': [ln_id         65766c94716374f3cb7d1fb3a88d1ddd\n",
       "   created             2024-05-28T22:21:20.631167\n",
       "   metadata                                    {}\n",
       "   content                                   None\n",
       "   embedding                                   []\n",
       "   head          8b6362dd3dda7b0995ae4a3f6cc363e3\n",
       "   tail          bbebb6af3efd4e0d5ea31c4c55f8c109\n",
       "   condition                                 None\n",
       "   label                                     None\n",
       "   bundle                                   False\n",
       "   lion_class                                Edge\n",
       "   dtype: object]},\n",
       " 'in': {'5240ac55a41124275ad07624746e96fa': [ln_id         04eab1dc3e5b23e638d222d4fa9991b4\n",
       "   created             2024-05-28T22:21:20.631450\n",
       "   metadata                                    {}\n",
       "   content                                   None\n",
       "   embedding                                   []\n",
       "   head          5240ac55a41124275ad07624746e96fa\n",
       "   tail          8b6362dd3dda7b0995ae4a3f6cc363e3\n",
       "   condition                                 None\n",
       "   label                                     None\n",
       "   bundle                                   False\n",
       "   lion_class                                Edge\n",
       "   dtype: object]}}"
      ]
     },
     "execution_count": 8,
     "metadata": {},
     "output_type": "execute_result"
    }
   ],
   "source": [
    "a.node_relations"
   ]
  },
  {
   "cell_type": "code",
   "execution_count": 9,
   "metadata": {},
   "outputs": [
    {
     "data": {
      "text/plain": [
       "2"
      ]
     },
     "execution_count": 9,
     "metadata": {},
     "output_type": "execute_result"
    }
   ],
   "source": [
    "len(a.edges)"
   ]
  },
  {
   "cell_type": "code",
   "execution_count": 10,
   "metadata": {},
   "outputs": [
    {
     "data": {
      "text/html": [
       "<div>\n",
       "<style scoped>\n",
       "    .dataframe tbody tr th:only-of-type {\n",
       "        vertical-align: middle;\n",
       "    }\n",
       "\n",
       "    .dataframe tbody tr th {\n",
       "        vertical-align: top;\n",
       "    }\n",
       "\n",
       "    .dataframe thead th {\n",
       "        text-align: right;\n",
       "    }\n",
       "</style>\n",
       "<table border=\"1\" class=\"dataframe\">\n",
       "  <thead>\n",
       "    <tr style=\"text-align: right;\">\n",
       "      <th></th>\n",
       "      <th>ln_id</th>\n",
       "      <th>created</th>\n",
       "      <th>metadata</th>\n",
       "      <th>content</th>\n",
       "      <th>embedding</th>\n",
       "      <th>head</th>\n",
       "      <th>tail</th>\n",
       "      <th>condition</th>\n",
       "      <th>label</th>\n",
       "      <th>bundle</th>\n",
       "      <th>lion_class</th>\n",
       "    </tr>\n",
       "  </thead>\n",
       "  <tbody>\n",
       "    <tr>\n",
       "      <th>0</th>\n",
       "      <td>04eab1dc3e5b23e638d222d4fa9991b4</td>\n",
       "      <td>2024-05-28T22:21:20.631450</td>\n",
       "      <td>{}</td>\n",
       "      <td>None</td>\n",
       "      <td>[]</td>\n",
       "      <td>5240ac55a41124275ad07624746e96fa</td>\n",
       "      <td>8b6362dd3dda7b0995ae4a3f6cc363e3</td>\n",
       "      <td>None</td>\n",
       "      <td>None</td>\n",
       "      <td>False</td>\n",
       "      <td>Edge</td>\n",
       "    </tr>\n",
       "    <tr>\n",
       "      <th>1</th>\n",
       "      <td>65766c94716374f3cb7d1fb3a88d1ddd</td>\n",
       "      <td>2024-05-28T22:21:20.631167</td>\n",
       "      <td>{}</td>\n",
       "      <td>None</td>\n",
       "      <td>[]</td>\n",
       "      <td>8b6362dd3dda7b0995ae4a3f6cc363e3</td>\n",
       "      <td>bbebb6af3efd4e0d5ea31c4c55f8c109</td>\n",
       "      <td>None</td>\n",
       "      <td>None</td>\n",
       "      <td>False</td>\n",
       "      <td>Edge</td>\n",
       "    </tr>\n",
       "  </tbody>\n",
       "</table>\n",
       "</div>"
      ],
      "text/plain": [
       "                              ln_id                     created metadata  \\\n",
       "0  04eab1dc3e5b23e638d222d4fa9991b4  2024-05-28T22:21:20.631450       {}   \n",
       "1  65766c94716374f3cb7d1fb3a88d1ddd  2024-05-28T22:21:20.631167       {}   \n",
       "\n",
       "  content embedding                              head  \\\n",
       "0    None        []  5240ac55a41124275ad07624746e96fa   \n",
       "1    None        []  8b6362dd3dda7b0995ae4a3f6cc363e3   \n",
       "\n",
       "                               tail condition label  bundle lion_class  \n",
       "0  8b6362dd3dda7b0995ae4a3f6cc363e3      None  None   False       Edge  \n",
       "1  bbebb6af3efd4e0d5ea31c4c55f8c109      None  None   False       Edge  "
      ]
     },
     "execution_count": 10,
     "metadata": {},
     "output_type": "execute_result"
    }
   ],
   "source": [
    "a.edges.to_df()"
   ]
  },
  {
   "cell_type": "code",
   "execution_count": 11,
   "metadata": {},
   "outputs": [
    {
     "data": {
      "text/plain": [
       "['5240ac55a41124275ad07624746e96fa', 'bbebb6af3efd4e0d5ea31c4c55f8c109']"
      ]
     },
     "execution_count": 11,
     "metadata": {},
     "output_type": "execute_result"
    }
   ],
   "source": [
    "a.related_nodes"
   ]
  },
  {
   "cell_type": "code",
   "execution_count": 12,
   "metadata": {},
   "outputs": [
    {
     "data": {
      "text/html": [
       "<div>\n",
       "<style scoped>\n",
       "    .dataframe tbody tr th:only-of-type {\n",
       "        vertical-align: middle;\n",
       "    }\n",
       "\n",
       "    .dataframe tbody tr th {\n",
       "        vertical-align: top;\n",
       "    }\n",
       "\n",
       "    .dataframe thead th {\n",
       "        text-align: right;\n",
       "    }\n",
       "</style>\n",
       "<table border=\"1\" class=\"dataframe\">\n",
       "  <thead>\n",
       "    <tr style=\"text-align: right;\">\n",
       "      <th></th>\n",
       "      <th>ln_id</th>\n",
       "      <th>created</th>\n",
       "      <th>metadata</th>\n",
       "      <th>content</th>\n",
       "      <th>embedding</th>\n",
       "      <th>head</th>\n",
       "      <th>tail</th>\n",
       "      <th>condition</th>\n",
       "      <th>label</th>\n",
       "      <th>bundle</th>\n",
       "      <th>lion_class</th>\n",
       "    </tr>\n",
       "  </thead>\n",
       "  <tbody>\n",
       "    <tr>\n",
       "      <th>0</th>\n",
       "      <td>04eab1dc3e5b23e638d222d4fa9991b4</td>\n",
       "      <td>2024-05-28T22:21:20.631450</td>\n",
       "      <td>{}</td>\n",
       "      <td>None</td>\n",
       "      <td>[]</td>\n",
       "      <td>5240ac55a41124275ad07624746e96fa</td>\n",
       "      <td>8b6362dd3dda7b0995ae4a3f6cc363e3</td>\n",
       "      <td>None</td>\n",
       "      <td>None</td>\n",
       "      <td>False</td>\n",
       "      <td>Edge</td>\n",
       "    </tr>\n",
       "    <tr>\n",
       "      <th>1</th>\n",
       "      <td>65766c94716374f3cb7d1fb3a88d1ddd</td>\n",
       "      <td>2024-05-28T22:21:20.631167</td>\n",
       "      <td>{}</td>\n",
       "      <td>None</td>\n",
       "      <td>[]</td>\n",
       "      <td>8b6362dd3dda7b0995ae4a3f6cc363e3</td>\n",
       "      <td>bbebb6af3efd4e0d5ea31c4c55f8c109</td>\n",
       "      <td>None</td>\n",
       "      <td>None</td>\n",
       "      <td>False</td>\n",
       "      <td>Edge</td>\n",
       "    </tr>\n",
       "  </tbody>\n",
       "</table>\n",
       "</div>"
      ],
      "text/plain": [
       "                              ln_id                     created metadata  \\\n",
       "0  04eab1dc3e5b23e638d222d4fa9991b4  2024-05-28T22:21:20.631450       {}   \n",
       "1  65766c94716374f3cb7d1fb3a88d1ddd  2024-05-28T22:21:20.631167       {}   \n",
       "\n",
       "  content embedding                              head  \\\n",
       "0    None        []  5240ac55a41124275ad07624746e96fa   \n",
       "1    None        []  8b6362dd3dda7b0995ae4a3f6cc363e3   \n",
       "\n",
       "                               tail condition label  bundle lion_class  \n",
       "0  8b6362dd3dda7b0995ae4a3f6cc363e3      None  None   False       Edge  \n",
       "1  bbebb6af3efd4e0d5ea31c4c55f8c109      None  None   False       Edge  "
      ]
     },
     "execution_count": 12,
     "metadata": {},
     "output_type": "execute_result"
    }
   ],
   "source": [
    "a.edges.to_df()"
   ]
  },
  {
   "cell_type": "code",
   "execution_count": 13,
   "metadata": {},
   "outputs": [
    {
     "data": {
      "text/html": [
       "<div>\n",
       "<style scoped>\n",
       "    .dataframe tbody tr th:only-of-type {\n",
       "        vertical-align: middle;\n",
       "    }\n",
       "\n",
       "    .dataframe tbody tr th {\n",
       "        vertical-align: top;\n",
       "    }\n",
       "\n",
       "    .dataframe thead th {\n",
       "        text-align: right;\n",
       "    }\n",
       "</style>\n",
       "<table border=\"1\" class=\"dataframe\">\n",
       "  <thead>\n",
       "    <tr style=\"text-align: right;\">\n",
       "      <th></th>\n",
       "      <th>ln_id</th>\n",
       "      <th>created</th>\n",
       "      <th>metadata</th>\n",
       "      <th>content</th>\n",
       "      <th>embedding</th>\n",
       "      <th>head</th>\n",
       "      <th>tail</th>\n",
       "      <th>condition</th>\n",
       "      <th>label</th>\n",
       "      <th>bundle</th>\n",
       "      <th>lion_class</th>\n",
       "    </tr>\n",
       "  </thead>\n",
       "  <tbody>\n",
       "    <tr>\n",
       "      <th>0</th>\n",
       "      <td>04eab1dc3e5b23e638d222d4fa9991b4</td>\n",
       "      <td>2024-05-28T22:21:20.631450</td>\n",
       "      <td>{}</td>\n",
       "      <td>None</td>\n",
       "      <td>[]</td>\n",
       "      <td>5240ac55a41124275ad07624746e96fa</td>\n",
       "      <td>8b6362dd3dda7b0995ae4a3f6cc363e3</td>\n",
       "      <td>None</td>\n",
       "      <td>None</td>\n",
       "      <td>False</td>\n",
       "      <td>Edge</td>\n",
       "    </tr>\n",
       "  </tbody>\n",
       "</table>\n",
       "</div>"
      ],
      "text/plain": [
       "                              ln_id                     created metadata  \\\n",
       "0  04eab1dc3e5b23e638d222d4fa9991b4  2024-05-28T22:21:20.631450       {}   \n",
       "\n",
       "  content embedding                              head  \\\n",
       "0    None        []  5240ac55a41124275ad07624746e96fa   \n",
       "\n",
       "                               tail condition label  bundle lion_class  \n",
       "0  8b6362dd3dda7b0995ae4a3f6cc363e3      None  None   False       Edge  "
      ]
     },
     "execution_count": 13,
     "metadata": {},
     "output_type": "execute_result"
    }
   ],
   "source": [
    "a.relations[\"in\"].to_df()"
   ]
  },
  {
   "cell_type": "code",
   "execution_count": 14,
   "metadata": {},
   "outputs": [
    {
     "data": {
      "text/plain": [
       "True"
      ]
     },
     "execution_count": 14,
     "metadata": {},
     "output_type": "execute_result"
    }
   ],
   "source": [
    "a.unrelate(b)"
   ]
  },
  {
   "cell_type": "code",
   "execution_count": 15,
   "metadata": {},
   "outputs": [
    {
     "data": {
      "text/plain": [
       "['5240ac55a41124275ad07624746e96fa']"
      ]
     },
     "execution_count": 15,
     "metadata": {},
     "output_type": "execute_result"
    }
   ],
   "source": [
    "a.related_nodes"
   ]
  },
  {
   "cell_type": "code",
   "execution_count": 16,
   "metadata": {},
   "outputs": [
    {
     "data": {
      "text/html": [
       "<div>\n",
       "<style scoped>\n",
       "    .dataframe tbody tr th:only-of-type {\n",
       "        vertical-align: middle;\n",
       "    }\n",
       "\n",
       "    .dataframe tbody tr th {\n",
       "        vertical-align: top;\n",
       "    }\n",
       "\n",
       "    .dataframe thead th {\n",
       "        text-align: right;\n",
       "    }\n",
       "</style>\n",
       "<table border=\"1\" class=\"dataframe\">\n",
       "  <thead>\n",
       "    <tr style=\"text-align: right;\">\n",
       "      <th></th>\n",
       "      <th>ln_id</th>\n",
       "      <th>created</th>\n",
       "      <th>metadata</th>\n",
       "      <th>content</th>\n",
       "      <th>embedding</th>\n",
       "      <th>head</th>\n",
       "      <th>tail</th>\n",
       "      <th>condition</th>\n",
       "      <th>label</th>\n",
       "      <th>bundle</th>\n",
       "      <th>lion_class</th>\n",
       "    </tr>\n",
       "  </thead>\n",
       "  <tbody>\n",
       "    <tr>\n",
       "      <th>0</th>\n",
       "      <td>04eab1dc3e5b23e638d222d4fa9991b4</td>\n",
       "      <td>2024-05-28T22:21:20.631450</td>\n",
       "      <td>{}</td>\n",
       "      <td>None</td>\n",
       "      <td>[]</td>\n",
       "      <td>5240ac55a41124275ad07624746e96fa</td>\n",
       "      <td>8b6362dd3dda7b0995ae4a3f6cc363e3</td>\n",
       "      <td>None</td>\n",
       "      <td>None</td>\n",
       "      <td>False</td>\n",
       "      <td>Edge</td>\n",
       "    </tr>\n",
       "  </tbody>\n",
       "</table>\n",
       "</div>"
      ],
      "text/plain": [
       "                              ln_id                     created metadata  \\\n",
       "0  04eab1dc3e5b23e638d222d4fa9991b4  2024-05-28T22:21:20.631450       {}   \n",
       "\n",
       "  content embedding                              head  \\\n",
       "0    None        []  5240ac55a41124275ad07624746e96fa   \n",
       "\n",
       "                               tail condition label  bundle lion_class  \n",
       "0  8b6362dd3dda7b0995ae4a3f6cc363e3      None  None   False       Edge  "
      ]
     },
     "execution_count": 16,
     "metadata": {},
     "output_type": "execute_result"
    }
   ],
   "source": [
    "a.edges.to_df()"
   ]
  },
  {
   "cell_type": "code",
   "execution_count": 17,
   "metadata": {},
   "outputs": [
    {
     "data": {
      "text/plain": [
       "{'out': {},\n",
       " 'in': {'5240ac55a41124275ad07624746e96fa': [ln_id         04eab1dc3e5b23e638d222d4fa9991b4\n",
       "   created             2024-05-28T22:21:20.631450\n",
       "   metadata                                    {}\n",
       "   content                                   None\n",
       "   embedding                                   []\n",
       "   head          5240ac55a41124275ad07624746e96fa\n",
       "   tail          8b6362dd3dda7b0995ae4a3f6cc363e3\n",
       "   condition                                 None\n",
       "   label                                     None\n",
       "   bundle                                   False\n",
       "   lion_class                                Edge\n",
       "   dtype: object]}}"
      ]
     },
     "execution_count": 17,
     "metadata": {},
     "output_type": "execute_result"
    }
   ],
   "source": [
    "a.node_relations"
   ]
  },
  {
   "cell_type": "code",
   "execution_count": 18,
   "metadata": {},
   "outputs": [
    {
     "data": {
      "text/plain": [
       "1"
      ]
     },
     "execution_count": 18,
     "metadata": {},
     "output_type": "execute_result"
    }
   ],
   "source": [
    "len(a.edges)"
   ]
  },
  {
   "cell_type": "code",
   "execution_count": 19,
   "metadata": {},
   "outputs": [
    {
     "data": {
      "text/plain": [
       "['5240ac55a41124275ad07624746e96fa']"
      ]
     },
     "execution_count": 19,
     "metadata": {},
     "output_type": "execute_result"
    }
   ],
   "source": [
    "a.related_nodes"
   ]
  },
  {
   "cell_type": "code",
   "execution_count": 20,
   "metadata": {},
   "outputs": [
    {
     "name": "stdout",
     "output_type": "stream",
     "text": [
      "ln_id         8b6362dd3dda7b0995ae4a3f6cc363e3\n",
      "created             2024-05-28T22:21:20.628162\n",
      "metadata                                    {}\n",
      "content                                   None\n",
      "embedding                                   []\n",
      "relations                               [1, 0]\n",
      "lion_class                                Node\n",
      "dtype: object\n"
     ]
    }
   ],
   "source": [
    "print(a)"
   ]
  }
 ],
 "metadata": {
  "kernelspec": {
   "display_name": ".venv",
   "language": "python",
   "name": "python3"
  },
  "language_info": {
   "codemirror_mode": {
    "name": "ipython",
    "version": 3
   },
   "file_extension": ".py",
   "mimetype": "text/x-python",
   "name": "python",
   "nbconvert_exporter": "python",
   "pygments_lexer": "ipython3",
   "version": "3.12.1"
  }
 },
 "nbformat": 4,
 "nbformat_minor": 2
}
