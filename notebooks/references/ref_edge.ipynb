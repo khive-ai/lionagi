{
 "cells": [
  {
   "cell_type": "code",
   "execution_count": 1,
   "metadata": {},
   "outputs": [],
   "source": [
    "from lionagi.os.collections.abc Component\n",
    "from lionagi.core.generic import Edge"
   ]
  },
  {
   "cell_type": "code",
   "execution_count": 2,
   "metadata": {},
   "outputs": [],
   "source": [
    "node1 = Component()\n",
    "node2 = Component()"
   ]
  },
  {
   "cell_type": "code",
   "execution_count": 3,
   "metadata": {},
   "outputs": [],
   "source": [
    "edge1 = Edge(head=node1, tail=node2)"
   ]
  },
  {
   "cell_type": "code",
   "execution_count": 4,
   "metadata": {},
   "outputs": [
    {
     "data": {
      "text/plain": [
       "{'ln_id': '6d999dad8e9173a49e01db686735e20d',\n",
       " 'created': '2024-05-28T22:20:38.892716',\n",
       " 'metadata': {},\n",
       " 'content': None,\n",
       " 'embedding': [],\n",
       " 'head': 'c59619fdcf7f3aeac6287ac68f484869',\n",
       " 'tail': 'd00f01dfa0783a6b338b326724f7ec1a',\n",
       " 'condition': None,\n",
       " 'label': None,\n",
       " 'bundle': False,\n",
       " 'lion_class': 'Edge'}"
      ]
     },
     "execution_count": 4,
     "metadata": {},
     "output_type": "execute_result"
    }
   ],
   "source": [
    "edge1.to_dict()"
   ]
  },
  {
   "cell_type": "code",
   "execution_count": 5,
   "metadata": {},
   "outputs": [
    {
     "data": {
      "text/plain": [
       "ln_id         6d999dad8e9173a49e01db686735e20d\n",
       "created             2024-05-28T22:20:38.892716\n",
       "metadata                                    {}\n",
       "content                                   None\n",
       "embedding                                   []\n",
       "head          c59619fdcf7f3aeac6287ac68f484869\n",
       "tail          d00f01dfa0783a6b338b326724f7ec1a\n",
       "condition                                 None\n",
       "label                                     None\n",
       "bundle                                   False\n",
       "lion_class                                Edge\n",
       "dtype: object"
      ]
     },
     "execution_count": 5,
     "metadata": {},
     "output_type": "execute_result"
    }
   ],
   "source": [
    "edge1"
   ]
  },
  {
   "cell_type": "code",
   "execution_count": null,
   "metadata": {},
   "outputs": [],
   "source": []
  }
 ],
 "metadata": {
  "kernelspec": {
   "display_name": ".venv",
   "language": "python",
   "name": "python3"
  },
  "language_info": {
   "codemirror_mode": {
    "name": "ipython",
    "version": 3
   },
   "file_extension": ".py",
   "mimetype": "text/x-python",
   "name": "python",
   "nbconvert_exporter": "python",
   "pygments_lexer": "ipython3",
   "version": "3.12.1"
  }
 },
 "nbformat": 4,
 "nbformat_minor": 2
}
