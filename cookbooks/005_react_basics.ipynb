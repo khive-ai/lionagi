{
 "cells": [
  {
   "cell_type": "markdown",
   "metadata": {},
   "source": [
    "# ReAct: Reasoning + Acting\n",
    "\n",
    "Building on:\n",
    "- **001-003**: Basic Branch usage and function calling\n",
    "- **004**: Conversation patterns and context\n",
    "\n",
    "**This notebook**: Introduction to ReAct - getting AI to think step-by-step and use tools strategically."
   ]
  },
  {
   "cell_type": "code",
   "execution_count": 1,
   "metadata": {},
   "outputs": [],
   "source": [
    "from lionagi import Branch, iModel\n",
    "import json\n",
    "from IPython.display import Markdown"
   ]
  },
  {
   "cell_type": "markdown",
   "metadata": {},
   "source": [
    "## What is ReAct?\n",
    "\n",
    "**ReAct** = **Reasoning** + **Acting**\n",
    "\n",
    "Instead of just giving an answer, the AI:\n",
    "1. **Thinks** about the problem (reasoning)\n",
    "2. **Uses tools** when needed (acting)\n",
    "3. **Repeats** until the problem is solved\n",
    "\n",
    "This creates more reliable, step-by-step problem solving."
   ]
  },
  {
   "cell_type": "markdown",
   "metadata": {},
   "source": [
    "## Simple Example: Math Problem Solver\n",
    "\n",
    "Let's start with a basic calculator that shows its reasoning:"
   ]
  },
  {
   "cell_type": "code",
   "execution_count": 2,
   "metadata": {},
   "outputs": [
    {
     "name": "stdout",
     "output_type": "stream",
     "text": [
      "Calculator ready with ReAct capabilities!\n"
     ]
    }
   ],
   "source": [
    "# Simple calculator functions\n",
    "def add(a: float, b: float) -> float:\n",
    "    \"\"\"Add two numbers.\"\"\"\n",
    "    return a + b\n",
    "\n",
    "\n",
    "def multiply(a: float, b: float) -> float:\n",
    "    \"\"\"Multiply two numbers.\"\"\"\n",
    "    return a * b\n",
    "\n",
    "\n",
    "def divide(a: float, b: float) -> float:\n",
    "    \"\"\"Divide two numbers.\"\"\"\n",
    "    if b == 0:\n",
    "        return \"Error: Cannot divide by zero\"\n",
    "    return a / b\n",
    "\n",
    "\n",
    "# Create a ReAct-enabled branch\n",
    "calculator = Branch(\n",
    "    system=\"You solve math problems step by step. Think about what you need to calculate, then use tools.\",\n",
    "    tools=[add, multiply, divide],\n",
    "    chat_model=iModel(model=\"openai/gpt-4.1-mini\"),\n",
    ")\n",
    "\n",
    "print(\"Calculator ready with ReAct capabilities!\")"
   ]
  },
  {
   "cell_type": "markdown",
   "metadata": {},
   "source": [
    "## Using ReAct for Problem Solving"
   ]
  },
  {
   "cell_type": "code",
   "execution_count": 3,
   "metadata": {},
   "outputs": [
    {
     "data": {
      "text/markdown": [
       "### ReAct Round No.1 Analysis:\n",
       "\n",
       "```yaml\n",
       "analysis: Step 1: Total cost of items before tax = 3 * 15.50 = $46.50. Step 2: Calculate 8% tax on $46.50 = 0.08 * 46.50. Step 3: Add tax to initial total to find total cost including tax.\n",
       "planned_actions:\n",
       "  - action_type: arithmetic\n",
       "    description: Calculate 3 times 15.50 for total item cost.\n",
       "  - action_type: arithmetic\n",
       "    description: Calculate 8% tax on total item cost.\n",
       "  - action_type: arithmetic\n",
       "    description: Add tax to total item cost to get final amount.\n",
       "extension_needed: True\n",
       "milestone: Calculate total cost including 8% tax\n",
       "action_strategy: sequential\n",
       "reason:\n",
       "  title: Calculate total cost with tax\n",
       "  content: First, calculate the total price for 3 items at $15.50 each. Then calculate the 8% tax on that total. Finally, add the tax to the original total to get the total cost including tax.\n",
       "  confidence_score: 1.0\n",
       "```"
      ],
      "text/plain": [
       "<IPython.core.display.Markdown object>"
      ]
     },
     "metadata": {},
     "output_type": "display_data"
    },
    {
     "data": {
      "text/markdown": [
       "### ReAct Round No.2 Analysis:\n",
       "\n",
       "```yaml\n",
       "analysis: We need to find the total cost before tax by multiplying the number of items (3) with the single item price ($15.50). This will be followed by calculating the tax and final total in the next steps.\n",
       "planned_actions:\n",
       "  - action_type: arithmetic\n",
       "    description: Multiply 3 items by $15.50 to find total cost before tax.\n",
       "extension_needed: True\n",
       "milestone: Calculate total cost before tax\n",
       "action_strategy: sequential\n",
       "reason:\n",
       "  title: Calculate total cost of items before tax\n",
       "  content: First, calculate the total cost of 3 items priced at $15.50 each by multiplying 3 by 15.50.\n",
       "  confidence_score: 1.0\n",
       "action_required: True\n",
       "action_requests:\n",
       "  - function: multiply\n",
       "    arguments:\n",
       "      a: 3\n",
       "      b: 15.5\n",
       "action_responses:\n",
       "  - function: multiply\n",
       "    arguments:\n",
       "      a: 3\n",
       "      b: 15.5\n",
       "    output: 46.5\n",
       "```"
      ],
      "text/plain": [
       "<IPython.core.display.Markdown object>"
      ]
     },
     "metadata": {},
     "output_type": "display_data"
    },
    {
     "data": {
      "text/markdown": [
       "### ReAct Round No.3 Analysis:\n",
       "\n",
       "```yaml\n",
       "analysis: Calculating 8% tax on the total cost of $46.50 will give the tax amount. We will then add this tax amount to the $46.50 to get the final amount payable.\n",
       "planned_actions:\n",
       "  - action_type: arithmetic\n",
       "    description: Multiply total cost before tax (46.5) by 0.08 to calculate the 8% tax amount.\n",
       "extension_needed: True\n",
       "milestone: Calculate tax and prepare to add to total cost\n",
       "action_strategy: sequential\n",
       "reason:\n",
       "  title: Calculate total tax and total cost including tax\n",
       "  content: The total cost before tax is $46.50. Next, calculate 8% tax on $46.50, then add the tax amount to the total cost before tax to find the final cost including tax.\n",
       "  confidence_score: 1.0\n",
       "action_required: True\n",
       "action_requests:\n",
       "  - function: multiply\n",
       "    arguments:\n",
       "      a: 46.5\n",
       "      b: 0.08\n",
       "action_responses:\n",
       "  - function: multiply\n",
       "    arguments:\n",
       "      a: 46.5\n",
       "      b: 0.08\n",
       "    output: 3.72\n",
       "```"
      ],
      "text/plain": [
       "<IPython.core.display.Markdown object>"
      ]
     },
     "metadata": {},
     "output_type": "display_data"
    },
    {
     "data": {
      "text/markdown": [
       "### ReAct Round No.4 Analysis:\n",
       "\n",
       "```yaml\n",
       "analysis: Adding the tax amount ($3.72) to the total cost before tax ($46.50) will give the final amount to be paid including tax.\n",
       "planned_actions:\n",
       "  - action_type: arithmetic\n",
       "    description: Add $3.72 tax to $46.50 total cost before tax to get final total cost.\n",
       "extension_needed: True\n",
       "milestone: Calculate final total cost including tax\n",
       "action_strategy: sequential\n",
       "reason:\n",
       "  title: Calculate total cost including tax\n",
       "  content: The tax amount on $46.50 is $3.72. Now add this tax to the original total cost to get the final total including tax.\n",
       "  confidence_score: 1.0\n",
       "action_required: True\n",
       "action_requests:\n",
       "  - function: add\n",
       "    arguments:\n",
       "      a: 46.5\n",
       "      b: 3.72\n",
       "action_responses:\n",
       "  - function: add\n",
       "    arguments:\n",
       "      a: 46.5\n",
       "      b: 3.72\n",
       "    output: 50.22\n",
       "```"
      ],
      "text/plain": [
       "<IPython.core.display.Markdown object>"
      ]
     },
     "metadata": {},
     "output_type": "display_data"
    },
    {
     "data": {
      "text/markdown": [
       "### ReAct Round No.5 Analysis:\n",
       "\n",
       "```yaml\n",
       "analysis: We first calculated the cost for 3 items at $15.50 each, which gave $46.50. Then calculated 8% tax on $46.50 as $3.72. Finally, we added the tax to the original cost to find the total $50.22.\n",
       "planned_actions:\n",
       "extension_needed: False\n",
       "milestone: Final total cost calculated\n",
       "action_strategy: sequential\n",
       "reason:\n",
       "  title: Final total amount calculation completed\n",
       "  content: The total cost before tax is $46.50, the calculated 8% tax is $3.72, and the final total cost including tax is $50.22.\n",
       "  confidence_score: 1.0\n",
       "action_required: False\n",
       "action_requests:\n",
       "action_responses:\n",
       "  - function: multiply\n",
       "    arguments:\n",
       "      a: 3\n",
       "      b: 15.5\n",
       "    output: 46.5\n",
       "  - function: multiply\n",
       "    arguments:\n",
       "      a: 46.5\n",
       "      b: 0.08\n",
       "    output: 3.72\n",
       "  - function: add\n",
       "    arguments:\n",
       "      a: 46.5\n",
       "      b: 3.72\n",
       "    output: 50.22\n",
       "```"
      ],
      "text/plain": [
       "<IPython.core.display.Markdown object>"
      ]
     },
     "metadata": {},
     "output_type": "display_data"
    },
    {
     "data": {
      "text/markdown": [
       "### ReAct Final Answer:\n",
       "\n",
       "```yaml\n",
       "answer: The total cost for 3 items at $15.50 each including 8% tax is $50.22.\n",
       "```"
      ],
      "text/plain": [
       "<IPython.core.display.Markdown object>"
      ]
     },
     "metadata": {},
     "output_type": "display_data"
    },
    {
     "name": "stdout",
     "output_type": "stream",
     "text": [
      "\n",
      "🎯 Final Answer:\n",
      "The total cost for 3 items at $15.50 each including 8% tax is $50.22.\n"
     ]
    }
   ],
   "source": [
    "# Problem: Calculate the total cost of 3 items at $15.50 each, plus 8% tax\n",
    "problem = (\n",
    "    \"I bought 3 items at $15.50 each. What's the total cost including 8% tax?\"\n",
    ")\n",
    "\n",
    "# Use ReAct to solve step-by-step\n",
    "solution = await calculator.ReAct(\n",
    "    instruct={\"instruction\": problem},\n",
    "    max_extensions=5,  # Limit the number of reasoning steps\n",
    "    verbose=True,  # Show the reasoning process\n",
    ")\n",
    "\n",
    "print(\"\\n🎯 Final Answer:\")\n",
    "print(solution)"
   ]
  },
  {
   "cell_type": "markdown",
   "metadata": {},
   "source": [
    "## Understanding the ReAct Process\n",
    "\n",
    "Let's look at what happened in the conversation:"
   ]
  },
  {
   "cell_type": "code",
   "execution_count": 4,
   "metadata": {},
   "outputs": [
    {
     "name": "stdout",
     "output_type": "stream",
     "text": [
      "Total conversation steps: 19\n",
      "\n",
      "Step-by-step breakdown:\n",
      "\n",
      "👤 User: {'instruction': \"I bought 3 items at $15.50 each. What's the total cost including 8% tax?\\n\\nYou can...\n",
      "🤖 Assistant: {'assistant_response': '```json\\n{\\n  \"reason\": {\\n    \"title\": \"Calculate total cost with tax\",\\n  ...\n",
      "\n",
      "👤 User: {'instruction': 'You can perform multiple reason-action steps for accuracy. If you are not ready to ...\n",
      "🤖 Assistant: {'assistant_response': '```json\\n{\\n  \"reason\": {\\n    \"title\": \"Calculate total cost of items befor...\n",
      "🔧 Tool Used: {'function': 'multiply', 'arguments': {'a': 3, 'b': 15.5}, 'action_response_id': '1c37c1ff-dd04-4bc4...\n",
      "🔧 Tool Used: {'function': 'multiply', 'arguments': {'a': 3, 'b': 15.5}, 'output': 46.5, 'action_request_id': 'fed...\n",
      "\n",
      "👤 User: {'instruction': 'Another round is available. You may do multiple actions if needed. You have up to 4...\n",
      "🤖 Assistant: {'assistant_response': '```json\\n{\\n  \"reason\": {\\n    \"title\": \"Calculate total tax and total cost ...\n",
      "🔧 Tool Used: {'function': 'multiply', 'arguments': {'a': 46.5, 'b': 0.08}, 'action_response_id': 'c9eac7a1-0dbb-4...\n",
      "🔧 Tool Used: {'function': 'multiply', 'arguments': {'a': 46.5, 'b': 0.08}, 'output': 3.72, 'action_request_id': '...\n",
      "\n",
      "👤 User: {'instruction': 'Another round is available. You may do multiple actions if needed. You have up to 3...\n",
      "🤖 Assistant: {'assistant_response': '```json\\n{\\n  \"reason\": {\\n    \"title\": \"Calculate total cost including tax\"...\n",
      "🔧 Tool Used: {'function': 'add', 'arguments': {'a': 46.5, 'b': 3.72}, 'action_response_id': '3ea2b82d-68ec-46a0-b...\n",
      "🔧 Tool Used: {'function': 'add', 'arguments': {'a': 46.5, 'b': 3.72}, 'output': 50.22, 'action_request_id': '26de...\n",
      "\n",
      "👤 User: {'instruction': 'Another round is available. You may do multiple actions if needed. You have up to 2...\n",
      "🤖 Assistant: {'assistant_response': '```json\\n{\\n  \"reason\": {\\n    \"title\": \"Final total amount calculation comp...\n",
      "\n",
      "👤 User: {'instruction': \"Given your reasoning and actions, please now provide the final answer to the user's...\n",
      "🤖 Assistant: {'assistant_response': '```json\\n{\"answer\": \"The total cost for 3 items at $15.50 each including 8% ...\n"
     ]
    }
   ],
   "source": [
    "# View the reasoning steps\n",
    "conversation = calculator.to_df()\n",
    "print(f\"Total conversation steps: {len(conversation)}\")\n",
    "print(\"\\nStep-by-step breakdown:\")\n",
    "\n",
    "for i, row in conversation.iterrows():\n",
    "    if row[\"role\"] == \"user\":\n",
    "        print(f\"\\n👤 User: {str(row['content'])[:100]}...\")\n",
    "    elif row[\"role\"] == \"assistant\":\n",
    "        print(f\"🤖 Assistant: {str(row['content'])[:100]}...\")\n",
    "    elif row[\"role\"] == \"action\":\n",
    "        print(f\"🔧 Tool Used: {str(row['content'])[:100]}...\")"
   ]
  },
  {
   "cell_type": "markdown",
   "metadata": {},
   "source": [
    "## Practical Example: Research Assistant\n",
    "\n",
    "Let's build a simple research assistant that can look up information:"
   ]
  },
  {
   "cell_type": "code",
   "execution_count": 5,
   "metadata": {},
   "outputs": [],
   "source": [
    "# Simple \"database\" functions\n",
    "company_data = {\n",
    "    \"apple\": {\"founded\": 1976, \"employees\": 164000, \"revenue\": \"$394.3B\"},\n",
    "    \"google\": {\"founded\": 1998, \"employees\": 182000, \"revenue\": \"$307.4B\"},\n",
    "    \"microsoft\": {\"founded\": 1975, \"employees\": 238000, \"revenue\": \"$211.9B\"},\n",
    "}\n",
    "\n",
    "\n",
    "def lookup_company(name: str) -> str:\n",
    "    \"\"\"Look up information about a company.\"\"\"\n",
    "    name = name.lower()\n",
    "    if name in company_data:\n",
    "        data = company_data[name]\n",
    "        return f\"{name.title()}: Founded {data['founded']}, {data['employees']} employees, {data['revenue']} revenue\"\n",
    "    return f\"No data found for {name}\"\n",
    "\n",
    "\n",
    "def calculate_age(founded_year: int) -> int:\n",
    "    \"\"\"Calculate how old a company is.\"\"\"\n",
    "    from datetime import datetime\n",
    "\n",
    "    current_year = datetime.now().year\n",
    "    return current_year - founded_year\n",
    "\n",
    "\n",
    "# Research assistant with ReAct\n",
    "researcher = Branch(\n",
    "    system=\"You are a research assistant. Look up information and analyze it step by step.\",\n",
    "    tools=[lookup_company, calculate_age],\n",
    "    chat_model=iModel(model=\"openai/gpt-4.1-mini\"),\n",
    ")"
   ]
  },
  {
   "cell_type": "code",
   "execution_count": 6,
   "metadata": {},
   "outputs": [
    {
     "data": {
      "text/markdown": [
       "### ReAct Round No.1 Analysis:\n",
       "\n",
       "```yaml\n",
       "analysis: |\n",
       "  Step 1: Identify the founding year of Apple.\n",
       "  Step 2: Identify the founding year of Google.\n",
       "  Step 3: Identify the founding year of Microsoft.\n",
       "  Step 4: Compare the years to find the oldest and newest.\n",
       "  Step 5: Calculate how many years older the oldest is compared to the newest.\n",
       "planned_actions:\n",
       "  - action_type: search_exa\n",
       "    description: Search for the founding years of Apple, Google, and Microsoft to ensure accuracy.\n",
       "extension_needed: True\n",
       "milestone: Obtain founding years for all three companies.\n",
       "action_strategy: concurrent\n",
       "reason:\n",
       "  title: Initial plan for determining company founding years\n",
       "  content: To find which company is oldest among Apple, Google, and Microsoft, we need the founding years of each. Then calculate the age difference between the oldest and newest.\n",
       "  confidence_score: 0.9\n",
       "```"
      ],
      "text/plain": [
       "<IPython.core.display.Markdown object>"
      ]
     },
     "metadata": {},
     "output_type": "display_data"
    },
    {
     "data": {
      "text/markdown": [
       "### ReAct Round No.2 Analysis:\n",
       "\n",
       "```yaml\n",
       "analysis: We need to lookup each company's founding year: Apple, Google, and Microsoft. Once we have all three founding years, we can identify the oldest and newest company and calculate the difference.\n",
       "planned_actions:\n",
       "  - action_type: lookup_company\n",
       "    description: Lookup Apple's founding year.\n",
       "  - action_type: lookup_company\n",
       "    description: Lookup Google's founding year.\n",
       "  - action_type: lookup_company\n",
       "    description: Lookup Microsoft's founding year.\n",
       "extension_needed: True\n",
       "milestone: Obtain founding years of Apple, Google, Microsoft for comparison.\n",
       "action_strategy: concurrent\n",
       "reason:\n",
       "  title: Look up founding years of Apple, Google, and Microsoft\n",
       "  content: To accurately compare their ages, retrieval of each company's founding year is necessary. This ensures no memory-based errors and confirms current known founders/years.\n",
       "  confidence_score: 0.95\n",
       "action_required: True\n",
       "action_requests:\n",
       "  - function: lookup_company\n",
       "    arguments:\n",
       "      name: Apple\n",
       "  - function: lookup_company\n",
       "    arguments:\n",
       "      name: Google\n",
       "  - function: lookup_company\n",
       "    arguments:\n",
       "      name: Microsoft\n",
       "action_responses:\n",
       "  - function: lookup_company\n",
       "    arguments:\n",
       "      name: Apple\n",
       "    output: Apple: Founded 1976, 164000 employees, $394.3B revenue\n",
       "  - function: lookup_company\n",
       "    arguments:\n",
       "      name: Google\n",
       "    output: Google: Founded 1998, 182000 employees, $307.4B revenue\n",
       "  - function: lookup_company\n",
       "    arguments:\n",
       "      name: Microsoft\n",
       "    output: Microsoft: Founded 1975, 238000 employees, $211.9B revenue\n",
       "```"
      ],
      "text/plain": [
       "<IPython.core.display.Markdown object>"
      ]
     },
     "metadata": {},
     "output_type": "display_data"
    },
    {
     "data": {
      "text/markdown": [
       "### ReAct Round No.3 Analysis:\n",
       "\n",
       "```yaml\n",
       "analysis: Microsoft (1975) is the oldest company, Google (1998) is the newest, and Apple (1976) is in between. The difference in years between Microsoft and Google needs to be calculated to determine how much older Microsoft is compared to Google.\n",
       "planned_actions:\n",
       "  - action_type: calculate_age\n",
       "    description: Calculate the age difference between Microsoft and Google based on their founding years.\n",
       "extension_needed: True\n",
       "milestone: Calculate exact year difference between oldest and newest companies.\n",
       "action_strategy: concurrent\n",
       "reason:\n",
       "  title: Founding years identified for comparison\n",
       "  content: Apple was founded in 1976, Google in 1998, and Microsoft in 1975. Microsoft is the oldest company (1975). Google is the newest (1998). Next, calculate how much older Microsoft is compared to Google.\n",
       "  confidence_score: 0.98\n",
       "action_required: True\n",
       "action_requests:\n",
       "  - function: calculate_age\n",
       "    arguments:\n",
       "      founded_year: 1975\n",
       "  - function: calculate_age\n",
       "    arguments:\n",
       "      founded_year: 1998\n",
       "action_responses:\n",
       "  - function: calculate_age\n",
       "    arguments:\n",
       "      founded_year: 1975\n",
       "    output: 50\n",
       "  - function: calculate_age\n",
       "    arguments:\n",
       "      founded_year: 1998\n",
       "    output: 27\n",
       "```"
      ],
      "text/plain": [
       "<IPython.core.display.Markdown object>"
      ]
     },
     "metadata": {},
     "output_type": "display_data"
    },
    {
     "data": {
      "text/markdown": [
       "### ReAct Round No.4 Analysis:\n",
       "\n",
       "```yaml\n",
       "analysis: Microsoft (50 years old) is the oldest company, Google (27 years old) is the newest, and Apple (48 years old) is between them. The difference between Microsoft and Google is 23 years, thus Microsoft is 23 years older than Google.\n",
       "planned_actions:\n",
       "extension_needed: False\n",
       "milestone: Final comparison and age difference calculated.\n",
       "action_strategy: concurrent\n",
       "reason:\n",
       "  title: Calculate difference in founding years to determine age gap\n",
       "  content: Microsoft was founded 50 years ago (in 1975) and Google 27 years ago (in 1998). To find how much older Microsoft is compared to Google, subtract 27 from 50, resulting in 23 years. Hence, Microsoft is 23 years older than Google.\n",
       "  confidence_score: 0.99\n",
       "action_required: False\n",
       "action_requests:\n",
       "action_responses:\n",
       "```"
      ],
      "text/plain": [
       "<IPython.core.display.Markdown object>"
      ]
     },
     "metadata": {},
     "output_type": "display_data"
    },
    {
     "data": {
      "text/markdown": [
       "### ReAct Final Answer:\n",
       "\n",
       "```yaml\n",
       "answer: Microsoft is the oldest company, founded in 1975. Google is the newest, founded in 1998. Microsoft is 23 years older than Google.\n",
       "```"
      ],
      "text/plain": [
       "<IPython.core.display.Markdown object>"
      ]
     },
     "metadata": {},
     "output_type": "display_data"
    },
    {
     "name": "stdout",
     "output_type": "stream",
     "text": [
      "\n",
      "📊 Research Result:\n",
      "Microsoft is the oldest company, founded in 1975. Google is the newest, founded in 1998. Microsoft is 23 years older than Google.\n"
     ]
    }
   ],
   "source": [
    "# Research question\n",
    "question = \"Which company is oldest: Apple, Google, or Microsoft? How much older is the oldest than the newest?\"\n",
    "\n",
    "# Let ReAct figure out the steps\n",
    "research_result = await researcher.ReAct(\n",
    "    instruct={\"instruction\": question}, max_extensions=10, verbose=True\n",
    ")\n",
    "\n",
    "print(\"\\n📊 Research Result:\")\n",
    "print(research_result)"
   ]
  },
  {
   "cell_type": "markdown",
   "metadata": {},
   "source": [
    "## ReAct vs Regular Function Calling\n",
    "\n",
    "Let's compare ReAct with regular `operate()` to see the difference:"
   ]
  },
  {
   "cell_type": "code",
   "execution_count": 7,
   "metadata": {},
   "outputs": [
    {
     "name": "stdout",
     "output_type": "stream",
     "text": [
      "🔧 Regular operate() result:\n",
      "\n",
      "Tools used: 3\n",
      "\n",
      "==================================================\n",
      "🧠 ReAct approach showed more reasoning steps and systematic problem solving!\n"
     ]
    }
   ],
   "source": [
    "# Regular function calling approach\n",
    "regular_branch = Branch(\n",
    "    system=\"Answer questions about companies.\",\n",
    "    tools=[lookup_company, calculate_age],\n",
    "    chat_model=iModel(model=\"openai/gpt-4.1-mini\"),\n",
    ")\n",
    "\n",
    "# Same question, different approach\n",
    "regular_result = await regular_branch.operate(\n",
    "    instruction=question, actions=True\n",
    ")\n",
    "\n",
    "print(\"🔧 Regular operate() result:\")\n",
    "print(f\"\\nTools used: {len(regular_result.action_responses)}\")\n",
    "\n",
    "print(\"\\n\" + \"=\" * 50)\n",
    "print(\n",
    "    \"🧠 ReAct approach showed more reasoning steps and systematic problem solving!\"\n",
    ")"
   ]
  },
  {
   "cell_type": "markdown",
   "metadata": {},
   "source": [
    "## When to Use ReAct\n",
    "\n",
    "**ReAct is best for:**\n",
    "- Complex, multi-step problems\n",
    "- When you want to see the reasoning process\n",
    "- Problems that need strategic tool use\n",
    "- Research and analysis tasks\n",
    "\n",
    "**Regular `operate()` is better for:**\n",
    "- Simple, single-step actions\n",
    "- When you just want the answer quickly\n",
    "- Straightforward tool usage"
   ]
  },
  {
   "cell_type": "markdown",
   "metadata": {},
   "source": [
    "## Simple ReAct Configuration\n",
    "\n",
    "Key parameters you can control:"
   ]
  },
  {
   "cell_type": "code",
   "execution_count": 8,
   "metadata": {},
   "outputs": [
    {
     "name": "stdout",
     "output_type": "stream",
     "text": [
      "Quick ReAct: 53\n"
     ]
    },
    {
     "data": {
      "text/markdown": [
       "### ReAct Round No.1 Analysis:\n",
       "\n",
       "```yaml\n",
       "analysis: The expression involves multiplication, division, addition, and subtraction. According to order of operations, multiplication and division go first, followed by addition and subtraction.\n",
       "planned_actions:\n",
       "  - action_type: multiply\n",
       "    description: Calculate 15 multiplied by 4.\n",
       "  - action_type: divide\n",
       "    description: Calculate 20 divided by 5.\n",
       "extension_needed: True\n",
       "milestone: Obtain intermediate results of multiplication and division\n",
       "action_strategy: concurrent\n",
       "reason:\n",
       "  title: Break down the expression step-by-step\n",
       "  content: To calculate (15 * 4) + (20 / 5) - 3, first multiply 15 by 4, then divide 20 by 5, then add the two results, and finally subtract 3.\n",
       "  confidence_score: 1.0\n",
       "```"
      ],
      "text/plain": [
       "<IPython.core.display.Markdown object>"
      ]
     },
     "metadata": {},
     "output_type": "display_data"
    },
    {
     "data": {
      "text/markdown": [
       "### ReAct Round No.2 Analysis:\n",
       "\n",
       "```yaml\n",
       "analysis: The first step applies multiplication and division first as per order of operation: 15 * 4 and 20 / 5. Next step will use the results to continue.\n",
       "planned_actions:\n",
       "  - action_type: multiply\n",
       "    description: Calculate 15 times 4.\n",
       "  - action_type: divide\n",
       "    description: Calculate 20 divided by 5.\n",
       "extension_needed: True\n",
       "milestone: Obtain results of multiplication and division\n",
       "action_strategy: concurrent\n",
       "reason:\n",
       "  title: Execute multiplication and division simultaneously\n",
       "  content: Calculate 15 multiplied by 4 and 20 divided by 5 concurrently to obtain the intermediate results for addition and subtraction in the expression.\n",
       "  confidence_score: 1.0\n",
       "action_required: True\n",
       "action_requests:\n",
       "  - function: multiply\n",
       "    arguments:\n",
       "      a: 15\n",
       "      b: 4\n",
       "  - function: divide\n",
       "    arguments:\n",
       "      a: 20\n",
       "      b: 5\n",
       "action_responses:\n",
       "  - function: multiply\n",
       "    arguments:\n",
       "      a: 15\n",
       "      b: 4\n",
       "    output: 60\n",
       "  - function: divide\n",
       "    arguments:\n",
       "      a: 20\n",
       "      b: 5\n",
       "    output: 4.0\n",
       "```"
      ],
      "text/plain": [
       "<IPython.core.display.Markdown object>"
      ]
     },
     "metadata": {},
     "output_type": "display_data"
    },
    {
     "data": {
      "text/markdown": [
       "### ReAct Round No.3 Analysis:\n",
       "\n",
       "```yaml\n",
       "analysis: First adding the multiplication and division results (60 + 4.0) before subtracting 3 in the next step.\n",
       "planned_actions:\n",
       "  - action_type: add\n",
       "    description: Add 60 and 4.0 as intermediate step before subtraction.\n",
       "extension_needed: True\n",
       "milestone: Obtain sum of multiplication and division results\n",
       "action_strategy: sequential\n",
       "reason:\n",
       "  title: Add intermediate results and subtract 3\n",
       "  content: We have the results from previous steps: 15 * 4 = 60 and 20 / 5 = 4.0. Now sum these results and then subtract 3 from the total.\n",
       "  confidence_score: 1.0\n",
       "action_required: True\n",
       "action_requests:\n",
       "  - function: add\n",
       "    arguments:\n",
       "      a: 60\n",
       "      b: 4.0\n",
       "action_responses:\n",
       "  - function: add\n",
       "    arguments:\n",
       "      a: 60\n",
       "      b: 4.0\n",
       "    output: 64.0\n",
       "```"
      ],
      "text/plain": [
       "<IPython.core.display.Markdown object>"
      ]
     },
     "metadata": {},
     "output_type": "display_data"
    },
    {
     "data": {
      "text/markdown": [
       "### ReAct Round No.4 Analysis:\n",
       "\n",
       "```yaml\n",
       "analysis: Using addition with negative number to perform subtraction as the final step for the expression evaluation.\n",
       "planned_actions:\n",
       "  - action_type: add\n",
       "    description: Subtract 3 from 64.0 by adding -3.\n",
       "extension_needed: True\n",
       "milestone: Obtain final calculation result after subtraction\n",
       "action_strategy: sequential\n",
       "reason:\n",
       "  title: Subtract 3 from the sum\n",
       "  content: We obtained 64.0 by adding 60 (15 * 4) and 4.0 (20 / 5). The last step is to subtract 3 from 64.0 to complete the expression (15 * 4) + (20 / 5) - 3.\n",
       "  confidence_score: 1.0\n",
       "action_required: True\n",
       "action_requests:\n",
       "  - function: add\n",
       "    arguments:\n",
       "      a: 64.0\n",
       "      b: -3\n",
       "action_responses:\n",
       "  - function: add\n",
       "    arguments:\n",
       "      a: 64.0\n",
       "      b: -3\n",
       "    output: 61.0\n",
       "```"
      ],
      "text/plain": [
       "<IPython.core.display.Markdown object>"
      ]
     },
     "metadata": {},
     "output_type": "display_data"
    },
    {
     "data": {
      "text/markdown": [
       "### ReAct Round No.5 Analysis:\n",
       "\n",
       "```yaml\n",
       "analysis: The expression was evaluated by first performing multiplication and division: 15*4=60 and 20/5=4. Adding these gives 64, then subtracting 3 yields the final result 61.0.\n",
       "planned_actions:\n",
       "  - action_type: None\n",
       "    description: No further calculations needed; final answer obtained.\n",
       "extension_needed: False\n",
       "milestone: Final answer obtained for the expression (15 * 4) + (20 / 5) - 3\n",
       "action_strategy: sequential\n",
       "reason:\n",
       "  title: Final Step: Confirm final answer\n",
       "  content: After completing the subtraction step to get 61.0, the entire expression (15 * 4) + (20 / 5) - 3 has been fully evaluated. The final answer is 61.0.\n",
       "  confidence_score: 1.0\n",
       "action_required: False\n",
       "action_requests: None\n",
       "action_responses:\n",
       "  - function: add\n",
       "    arguments:\n",
       "      a: 64.0\n",
       "      b: -3\n",
       "    output: 61.0\n",
       "```"
      ],
      "text/plain": [
       "<IPython.core.display.Markdown object>"
      ]
     },
     "metadata": {},
     "output_type": "display_data"
    },
    {
     "data": {
      "text/markdown": [
       "### ReAct Final Answer:\n",
       "\n",
       "```yaml\n",
       "answer: 61.0\n",
       "```"
      ],
      "text/plain": [
       "<IPython.core.display.Markdown object>"
      ]
     },
     "metadata": {},
     "output_type": "display_data"
    },
    {
     "name": "stdout",
     "output_type": "stream",
     "text": [
      "\n",
      "Detailed ReAct: 61.0\n"
     ]
    }
   ],
   "source": [
    "# Different ReAct configurations\n",
    "demo_branch = Branch(\n",
    "    system=\"You solve problems step by step.\",\n",
    "    tools=[add, multiply, divide],\n",
    "    chat_model=iModel(model=\"openai/gpt-4.1-mini\"),\n",
    ")\n",
    "\n",
    "# Quick ReAct (fewer steps)\n",
    "quick_result = await demo_branch.ReAct(\n",
    "    instruct={\"instruction\": \"What's 10 * 5 + 3?\"},\n",
    "    max_extensions=10,\n",
    "    verbose=False,  # Hide reasoning steps\n",
    ")\n",
    "\n",
    "print(\"Quick ReAct:\", quick_result)\n",
    "\n",
    "# Detailed ReAct (more steps)\n",
    "detailed_result = await demo_branch.ReAct(\n",
    "    instruct={\"instruction\": \"Calculate (15 * 4) + (20 / 5) - 3\"},\n",
    "    max_extensions=10,\n",
    "    verbose=True,  # Show reasoning steps\n",
    ")\n",
    "\n",
    "print(\"\\nDetailed ReAct:\", detailed_result)"
   ]
  },
  {
   "cell_type": "markdown",
   "metadata": {},
   "source": [
    "## Key Takeaways\n",
    "\n",
    "**ReAct Pattern:**\n",
    "1. 🧠 **Think** about what needs to be done\n",
    "2. 🔧 **Act** using available tools\n",
    "3. 🔄 **Repeat** until problem is solved\n",
    "\n",
    "**Benefits:**\n",
    "- More reliable problem solving\n",
    "- Transparent reasoning process\n",
    "- Better handling of complex tasks\n",
    "- Strategic tool usage\n",
    "\n",
    "**Next**: You now understand ReAct fundamentals! This prepares you for more advanced reasoning patterns and complex workflows."
   ]
  }
 ],
 "metadata": {
  "kernelspec": {
   "display_name": "lionagi",
   "language": "python",
   "name": "python3"
  },
  "language_info": {
   "codemirror_mode": {
    "name": "ipython",
    "version": 3
   },
   "file_extension": ".py",
   "mimetype": "text/x-python",
   "name": "python",
   "nbconvert_exporter": "python",
   "pygments_lexer": "ipython3",
   "version": "3.10.15"
  }
 },
 "nbformat": 4,
 "nbformat_minor": 4
}
